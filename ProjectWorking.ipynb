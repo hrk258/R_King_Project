{
 "cells": [
  {
   "cell_type": "code",
   "execution_count": null,
   "id": "3285d59d-b222-4577-bf80-646f5e38c4af",
   "metadata": {
    "ExecuteTime": {
     "end_time": "2025-06-05T00:59:10.060086Z",
     "start_time": "2025-06-05T00:59:10.053755Z"
    }
   },
   "outputs": [],
   "source": []
  },
  {
   "cell_type": "code",
   "execution_count": 153,
   "id": "ce460696-9fb3-4772-b758-98a6bbb7c734",
   "metadata": {
    "ExecuteTime": {
     "end_time": "2025-06-05T01:00:05.399553Z",
     "start_time": "2025-06-05T00:59:10.099803Z"
    },
    "editable": true,
    "slideshow": {
     "slide_type": ""
    },
    "tags": []
   },
   "outputs": [
    {
     "name": "stdout",
     "output_type": "stream",
     "text": [
      "Welcome to the add task manager. Please provide the information below. Type DONE when finished\n"
     ]
    },
    {
     "name": "stdin",
     "output_type": "stream",
     "text": [
      "Which day of the week do you want to add a task to? Type DONE if finished  monday\n"
     ]
    },
    {
     "name": "stdout",
     "output_type": "stream",
     "text": [
      "Thank-You! Day is valid\n"
     ]
    },
    {
     "name": "stdin",
     "output_type": "stream",
     "text": [
      "What is the task? painting\n"
     ]
    },
    {
     "name": "stdout",
     "output_type": "stream",
     "text": [
      "Alright! Painting has been added to Monday\n"
     ]
    },
    {
     "name": "stdin",
     "output_type": "stream",
     "text": [
      "Which day of the week do you want to add a task to? Type DONE if finished  done\n"
     ]
    },
    {
     "name": "stdout",
     "output_type": "stream",
     "text": [
      "Finished adding tasks.\n",
      "{'Monday': {'Painting': False}, 'Tuesday': {}, 'Wednesday': {}, 'Thursday': {}, 'Friday': {}, 'Saturday': {}, 'Sunday': {}}\n"
     ]
    }
   ],
   "source": [
    "'''\n",
    "Not completely finished. Tried my best but running into trouble with some functions and accessing/modifying items.\n",
    "Appreciate all feedback.\n",
    "'''\n",
    "\n",
    "#Part 1\n",
    "\n",
    "#Days of week list\n",
    "\n",
    "list_day_week = [\"Monday\",\"Tuesday\",\"Wednesday\",\"Thursday\",\"Friday\",\"Saturday\",\"Sunday\"]\n",
    "\n",
    "#Dictionary to track tasks for the week.\n",
    "\n",
    "tasks_dict = {day: {} for day in list_day_week}\n",
    "\n",
    "#Empty Dictionary to store habits.\n",
    "habits_dict = {}\n",
    "\n",
    "\n",
    "'''Looks like\n",
    "        Monday: {Clean   false}\n",
    "        Tuesday {Painting  False}\n",
    "'''\n",
    "    \n",
    "\n",
    "#PART 2\n",
    "#Defining a function for user to add tasks\n",
    "\n",
    "def add_tasks(task_add):\n",
    "   \n",
    "#Main user input starts here. While loop checks for a valid day.\n",
    "#If true asks for task then breaks out to call add_tasks function.\n",
    "    \n",
    "    print('Welcome to the add task manager. Please provide the information below. Type DONE when finished')\n",
    "    while True:\n",
    "        day = input('Which day of the week do you want to add a task to? Type DONE if finished ')\n",
    "        day = day.strip().title()\n",
    "        if day == \"Done\":\n",
    "            print(\"Finished adding tasks.\") # Cancel the operation if done is entered\n",
    "            break # Exit the while loop\n",
    "        if day in list_day_week: #check that day is valid\n",
    "            print('Thank-You! Day is valid')\n",
    "            new_task = input('What is the task?')\n",
    "            new_task = new_task.title()\n",
    "\n",
    "            #Adding task to the dictionary\n",
    "            if new_task not in task_add[day]:\n",
    "                task_add[day][new_task] = False #add new_task as a key\n",
    "                #task_add[day][\"Completed\"] = []\n",
    "                #task_add[day][\"tasks\"] = new_task\n",
    "                #if new_task not in task_add[day][\"tasks\"]:\n",
    "                 #   task_add[day][\"tasks\"] = new_task\n",
    "                  #  task_add[day][\"completed\"]= False\n",
    "                print(f'Alright! {new_task} has been added to {day}')\n",
    "            else:\n",
    "                print(\"Task already exists!\")#If task exists print message\n",
    "        else:\n",
    "            print('Invalid day! Must be any day of the week') #if day is incorrect display message\n",
    "    return task_add\n",
    "#tasks_dict = task_add\n",
    "#add_tasks(tasks_dict)\n",
    "tasks_dict = add_tasks(tasks_dict)\n",
    "print(tasks_dict) #Can uncomment to see tasks\n",
    "\n"
   ]
  },
  {
   "cell_type": "code",
   "execution_count": 212,
   "id": "f44ebba9-e973-4202-b55e-99a6df90af4c",
   "metadata": {},
   "outputs": [
    {
     "name": "stdout",
     "output_type": "stream",
     "text": [
      "{'Monday': {'Painting': False}, 'Tuesday': {}, 'Wednesday': {}, 'Thursday': {}, 'Friday': {}, 'Saturday': {}, 'Sunday': {}}\n"
     ]
    }
   ],
   "source": [
    "print(tasks_dict)"
   ]
  },
  {
   "cell_type": "code",
   "execution_count": null,
   "id": "63e07dd5-480a-4674-9524-f727b4acc41d",
   "metadata": {},
   "outputs": [],
   "source": []
  },
  {
   "cell_type": "code",
   "execution_count": 217,
   "id": "fabba37c-5954-416f-8a3f-91d2b09d45b2",
   "metadata": {},
   "outputs": [
    {
     "name": "stdout",
     "output_type": "stream",
     "text": [
      "{}\n",
      "Welcome to the add habits manager. Let's add some habits. Type DONE when finished\n"
     ]
    },
    {
     "name": "stdin",
     "output_type": "stream",
     "text": [
      "What habit do you want to add? Remember type DONE if finished reading\n"
     ]
    },
    {
     "name": "stdout",
     "output_type": "stream",
     "text": [
      "Reading habit has been added!\n"
     ]
    },
    {
     "name": "stdin",
     "output_type": "stream",
     "text": [
      "What habit do you want to add? Remember type DONE if finished swimming\n"
     ]
    },
    {
     "name": "stdout",
     "output_type": "stream",
     "text": [
      "Swimming habit has been added!\n"
     ]
    },
    {
     "name": "stdin",
     "output_type": "stream",
     "text": [
      "What habit do you want to add? Remember type DONE if finished biking\n"
     ]
    },
    {
     "name": "stdout",
     "output_type": "stream",
     "text": [
      "Biking habit has been added!\n"
     ]
    },
    {
     "name": "stdin",
     "output_type": "stream",
     "text": [
      "What habit do you want to add? Remember type DONE if finished done\n"
     ]
    },
    {
     "name": "stdout",
     "output_type": "stream",
     "text": [
      "Finished adding habits.\n",
      "{'Reading': {'Monday': False, 'Tuesday': False, 'Wednesday': False, 'Thursday': False, 'Friday': False, 'Saturday': False, 'Sunday': False}, 'Swimming': {'Monday': False, 'Tuesday': False, 'Wednesday': False, 'Thursday': False, 'Friday': False, 'Saturday': False, 'Sunday': False}, 'Biking': {'Monday': False, 'Tuesday': False, 'Wednesday': False, 'Thursday': False, 'Friday': False, 'Saturday': False, 'Sunday': False}}\n"
     ]
    }
   ],
   "source": [
    "#Part 2b Function for adding habits to track habits dictionary\n",
    "#Setting habits completeness value to false for each day\n",
    "\n",
    "#Empty Dictionary to store habits.\n",
    "#habits_dict = {}\n",
    "\n",
    "def add_habits(habit_pass):\n",
    "    print(habit_pass)\n",
    "    print(\"Welcome to the add habits manager. Let's add some habits. Type DONE when finished\")          \n",
    "    while True: \n",
    "        new_habit = input('What habit do you want to add? Remember type DONE if finished')\n",
    "        new_habit = new_habit.strip().title()\n",
    "        if new_habit in list_day_week:\n",
    "            print('OOPS! You entered a day of the week instead of a habit. Please re-enter a habit!')\n",
    "            continue\n",
    "        if new_habit == \"Done\": #If user types done the operation is cancelled\n",
    "            print(\"Finished adding habits.\")\n",
    "            break # Exit the while loop\n",
    "        if new_habit not in habit_pass:\n",
    "            habit_pass[new_habit] = {day: False for day in list_day_week} #adding habit to the dictionary\n",
    "            \n",
    "            print(new_habit + ' habit has been added!') #message saying it's added\n",
    "        \n",
    "        else:\n",
    "            print('This habit has already been added. Try another habit please.') #if habit exists display message \n",
    "    return habit_pass\n",
    "habits_dict = add_habits(habits_dict)\n",
    "\n",
    "print(habits_dict) #Can uncomment to see list of habits"
   ]
  },
  {
   "cell_type": "code",
   "execution_count": 211,
   "id": "c6e28e57-8899-46ab-aa68-3d7c18a7016e",
   "metadata": {},
   "outputs": [
    {
     "name": "stdout",
     "output_type": "stream",
     "text": [
      "{}\n"
     ]
    }
   ],
   "source": [
    "print(habits_dict)\n",
    "#del habits_dict[\"Tuesday\"]"
   ]
  },
  {
   "cell_type": "code",
   "execution_count": 151,
   "id": "4c99db9a-7c06-49ba-bf51-19f19e2967fd",
   "metadata": {},
   "outputs": [
    {
     "name": "stdout",
     "output_type": "stream",
     "text": [
      "Here is a list of uncompleted tasks!\n",
      "Monday = {'Cleaning': True}\n",
      "Tuesday = {}\n",
      "Wednesday = {}\n",
      "Thursday = {}\n",
      "Friday = {}\n",
      "Saturday = {}\n",
      "Sunday = {}\n"
     ]
    },
    {
     "name": "stdin",
     "output_type": "stream",
     "text": [
      "Did you complete any tasks? Y/N \n"
     ]
    },
    {
     "name": "stdout",
     "output_type": "stream",
     "text": [
      "No tasks completed yet. You got this. Maybe tomorrow!\n"
     ]
    }
   ],
   "source": [
    "#Part 3\n",
    "#Function to show uncompleted tasks.\n",
    "#Ask for name of task completed and update dict. to reflect.(set completed value to true)\n",
    "# If all completed display message saying so.\n",
    "#Display message if task does not exist. Validate day input\n",
    "# If task completed day before current day, display a nice encouraging message\n",
    "\n",
    "def tasks_incompleted(tasks_incompl):\n",
    "    \n",
    "    print('Here is a list of uncompleted tasks!')\n",
    "    for key, value in tasks_incompl.items():\n",
    "        print(f\"{key} = {value}\") #Displaying the day\n",
    "    compl_yn = input('Did you complete any tasks? Y/N')\n",
    "    compl_yn = compl_yn.upper()\n",
    "    if compl_yn == 'Y':\n",
    "        \n",
    "        while True: #Loop to check for validity of day \n",
    "            day_compl = input('Which day did you complete the task on?').strip().title() #Asking for the day a task was completed on\n",
    "            if day_compl in list_day_week: #check that day is valid\n",
    "                print('Thank-You! Day is valid')\n",
    "                break\n",
    "            else:\n",
    "                print('Day is not correct! Please fix!') #Will loop back to ask for day if it was initially incorrect\n",
    "                \n",
    "        task_compl = input('Enter a task that you have completed.')\n",
    "        for key, value in tasks_incompl.items(): #For the day in dictionary and the task for that day update to true(completed)\n",
    "            if key == day_compl:\n",
    "                for value in tasks_incompl[key].values():\n",
    "                    \n",
    "                    tasks_incompl[day_compl][task_compl] = True\n",
    "        print(f\"Task {task_compl} on {day_compl} has been updated to completed! Yahoo\") #Message to inform task has been updated to completed\n",
    "        \n",
    "                   \n",
    "            \n",
    "    else:\n",
    "        print('No tasks completed yet. You got this. Maybe tomorrow!') #Message to display if no tasks were completed.\n",
    "    return tasks_incompl\n",
    "#print(\"Okay! Let's see all uncompleted tasks and their day\")\n",
    "tasks_dict = tasks_incompleted(tasks_dict)\n"
   ]
  },
  {
   "cell_type": "code",
   "execution_count": 150,
   "id": "1dc69049-5281-4349-a7fe-dbe69bbe4158",
   "metadata": {},
   "outputs": [
    {
     "name": "stdout",
     "output_type": "stream",
     "text": [
      "{'Monday': {'Cleaning': True}, 'Tuesday': {}, 'Wednesday': {}, 'Thursday': {}, 'Friday': {}, 'Saturday': {}, 'Sunday': {}}\n"
     ]
    }
   ],
   "source": [
    "print(tasks_dict)\n",
    "#del tasks_dict[\"Wednesday\"][\"sweeping\"]"
   ]
  },
  {
   "cell_type": "code",
   "execution_count": null,
   "id": "2b7b728f-9a8d-4ea0-b411-b254aa9b4520",
   "metadata": {},
   "outputs": [
    {
     "name": "stdin",
     "output_type": "stream",
     "text": [
      "Would you like to mark a habit as completed? Yes or No yes\n",
      "What day is the habit on? monday\n"
     ]
    },
    {
     "name": "stdout",
     "output_type": "stream",
     "text": [
      "Day is valid\n"
     ]
    },
    {
     "name": "stdin",
     "output_type": "stream",
     "text": [
      "Which habit is completed? Climbing\n"
     ]
    },
    {
     "name": "stdout",
     "output_type": "stream",
     "text": [
      "Climbing does not exist. Try again\n"
     ]
    }
   ],
   "source": [
    "#Having trouble with this one and running out of time. Appreciate feedback to help me get it working.\n",
    "\n",
    "\n",
    "def mark_habits_true(habit_pass):\n",
    "    if habit_pass is None:                                  #Check to see if habit dict has any habits.\n",
    "        print(\"OOPS! No habits are being tracked yet.\")\n",
    "    else:\n",
    "        mark_hab_yn = input('Would you like to mark a habit as completed? Yes or No')\n",
    "        mark_hab_yn = mark_hab_yn.strip().title()\n",
    "        if mark_hab_yn == \"Yes\":\n",
    "    \n",
    "            while True:\n",
    "                day_hab_comp = input('What day is the habit on?').strip().title()\n",
    "                if day_hab_comp in list_day_week:\n",
    "                    print('Day is valid')\n",
    "                    break\n",
    "                else:\n",
    "                        print('Day is not correct! Please fix!') #Will loop back to ask for day if it was initially incorrect\n",
    "            while True:        \n",
    "                hab_comp = input('Which habit is completed?').strip().title()\n",
    "                #empty = return habit_pass\n",
    "                if hab_comp in habit_pass:\n",
    "                    #print(f\"{hab_comp} is being tracked\")\n",
    "                    for key, value in habit_pass.items(): #Loop through habits and mark completed(true) for specific day.\n",
    "                        if key == hab_comp:\n",
    "                            for value in habit_pass.values():\n",
    "                                habit_pass[hab_comp][day_hab_comp] = True\n",
    "                    print(f\"{hab_comp} on {day_hab_comp} has beeb updated to completed\")\n",
    "                    break\n",
    "                    \n",
    "                \n",
    "                else:\n",
    "                    print(f\"{hab_comp} does not exist. Try again\")\n",
    "                    continue\n",
    "    return habit_pass\n",
    "habits_dict = mark_habits_true(habits_dict)\n",
    "        "
   ]
  },
  {
   "cell_type": "code",
   "execution_count": 240,
   "id": "5855963e-eaaf-4caa-8143-fe8fd2e40a6d",
   "metadata": {},
   "outputs": [
    {
     "name": "stdout",
     "output_type": "stream",
     "text": [
      "{'Swimming': {'Monday': True, 'Tuesday': True, 'Wednesday': False, 'Thursday': False, 'Friday': False, 'Saturday': False, 'Sunday': False}, 'Biking': {'Monday': False, 'Tuesday': False, 'Wednesday': False, 'Thursday': False, 'Friday': False, 'Saturday': False, 'Sunday': False}}\n"
     ]
    }
   ],
   "source": [
    "print(f\"{habits_dict}\")\n",
    "#del habits_dict[\"Reading\"]"
   ]
  },
  {
   "cell_type": "code",
   "execution_count": null,
   "id": "89e652b2-d37d-410c-9352-e4fe30f0ece2",
   "metadata": {},
   "outputs": [],
   "source": [
    "'''def rm_tasks(task_rem):\n",
    "    print('Here is a list of uncompleted tasks!')\n",
    "    for key, value in tasks_incompl.items():\n",
    "        print(f\"{key} = {value}\") #Displaying the day\n",
    "    compl_yn = input('Did you complete any tasks? Y/N')\n",
    "    compl_yn = compl_yn.upper()\n",
    "    if compl_yn == 'Y':\n",
    "        \n",
    "        while True: #Loop to check for validity of day \n",
    "            day_compl = input('Which day did you complete the task on?').strip().title() #Asking for the day a task was completed on\n",
    "            if day_compl in list_day_week: #check that day is valid\n",
    "                print('Thank-You! Day is valid')\n",
    "                break\n",
    "            else:\n",
    "                print('Day is not correct! Please fix!') #Will loop back to ask for day if it was initially incorrect\n",
    "                \n",
    "        task_compl = input('Enter a task that you have completed.')\n",
    "        for key, value in tasks_incompl.items(): #For the day in dictionary and the task for that day update to true(completed)\n",
    "            if key == day_compl:\n",
    "                for value in tasks_incompl[key].values():\n",
    "                    \n",
    "                    tasks_incompl[day_compl][task_compl] = True\n",
    "        print(f\"Task {task_compl} on {day_compl} has been updated to completed! Yahoo\") #Message to inform task has been updated to completed\n",
    "        \n",
    "                   \n",
    "            \n",
    "    else:\n",
    "        print('No tasks completed yet. You got this. Maybe tomorrow!') #Message to display if no tasks were completed.\n",
    "    return tasks_incompl\n",
    "\n",
    "\n",
    "tasks_dict = rm_tasks(tasks_dict)'''"
   ]
  }
 ],
 "metadata": {
  "kernelspec": {
   "display_name": "Python 3 (ipykernel)",
   "language": "python",
   "name": "python3"
  },
  "language_info": {
   "codemirror_mode": {
    "name": "ipython",
    "version": 3
   },
   "file_extension": ".py",
   "mimetype": "text/x-python",
   "name": "python",
   "nbconvert_exporter": "python",
   "pygments_lexer": "ipython3",
   "version": "3.12.7"
  }
 },
 "nbformat": 4,
 "nbformat_minor": 5
}
