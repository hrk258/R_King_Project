{
 "cells": [
  {
   "cell_type": "code",
   "execution_count": 230,
   "id": "3285d59d-b222-4577-bf80-646f5e38c4af",
   "metadata": {
    "ExecuteTime": {
     "end_time": "2025-06-05T00:59:10.060086Z",
     "start_time": "2025-06-05T00:59:10.053755Z"
    }
   },
   "outputs": [],
   "source": [
    "'''\n",
    "Not completely finished. Redone parts 1-3. Part 4 is done. Part 5 not finished...YET\n",
    "Appreciate all feedback.\n",
    "'''\n",
    "\n",
    "#Part 1\n",
    "\n",
    "#Days of week list\n",
    "\n",
    "import datetime #To be used for certain date coding\n",
    "\n",
    "list_day_week = [\"Monday\",\"Tuesday\",\"Wednesday\",\"Thursday\",\"Friday\",\"Saturday\",\"Sunday\"]\n",
    "\n",
    "#Dictionary to track tasks for the week.\n",
    "\n",
    "tasks_dict = {day: {} for day in list_day_week}  #Looks like\n",
    "                                                  #      Monday: {Clean   false}\n",
    "                                                   #     Tuesday {Painting  False}\n",
    "                                                                                    \n",
    "\n",
    "#Empty Dictionary to store habits.\n",
    "habits_dict = {}"
   ]
  },
  {
   "cell_type": "code",
   "execution_count": 20,
   "id": "ce460696-9fb3-4772-b758-98a6bbb7c734",
   "metadata": {
    "ExecuteTime": {
     "end_time": "2025-06-05T01:00:05.399553Z",
     "start_time": "2025-06-05T00:59:10.099803Z"
    },
    "editable": true,
    "slideshow": {
     "slide_type": ""
    },
    "tags": []
   },
   "outputs": [
    {
     "name": "stdout",
     "output_type": "stream",
     "text": [
      "Welcome to the add task manager. Please provide the information below. Type DONE when finished\n"
     ]
    },
    {
     "name": "stdin",
     "output_type": "stream",
     "text": [
      "Which day of the week do you want to add a task to? Type DONE if finished  monday\n"
     ]
    },
    {
     "name": "stdout",
     "output_type": "stream",
     "text": [
      "Thank-You! Day is valid\n"
     ]
    },
    {
     "name": "stdin",
     "output_type": "stream",
     "text": [
      "What is the task? Painting\n"
     ]
    },
    {
     "name": "stdout",
     "output_type": "stream",
     "text": [
      "Alright! Painting has been added to Monday\n"
     ]
    },
    {
     "name": "stdin",
     "output_type": "stream",
     "text": [
      "Which day of the week do you want to add a task to? Type DONE if finished  tuesday\n"
     ]
    },
    {
     "name": "stdout",
     "output_type": "stream",
     "text": [
      "Thank-You! Day is valid\n"
     ]
    },
    {
     "name": "stdin",
     "output_type": "stream",
     "text": [
      "What is the task? washing\n"
     ]
    },
    {
     "name": "stdout",
     "output_type": "stream",
     "text": [
      "Alright! Washing has been added to Tuesday\n"
     ]
    },
    {
     "name": "stdin",
     "output_type": "stream",
     "text": [
      "Which day of the week do you want to add a task to? Type DONE if finished  wednesday\n"
     ]
    },
    {
     "name": "stdout",
     "output_type": "stream",
     "text": [
      "Thank-You! Day is valid\n"
     ]
    },
    {
     "name": "stdin",
     "output_type": "stream",
     "text": [
      "What is the task? cutting\n"
     ]
    },
    {
     "name": "stdout",
     "output_type": "stream",
     "text": [
      "Alright! Cutting has been added to Wednesday\n"
     ]
    },
    {
     "name": "stdin",
     "output_type": "stream",
     "text": [
      "Which day of the week do you want to add a task to? Type DONE if finished  thursday\n"
     ]
    },
    {
     "name": "stdout",
     "output_type": "stream",
     "text": [
      "Thank-You! Day is valid\n"
     ]
    },
    {
     "name": "stdin",
     "output_type": "stream",
     "text": [
      "What is the task? trimming\n"
     ]
    },
    {
     "name": "stdout",
     "output_type": "stream",
     "text": [
      "Alright! Trimming has been added to Thursday\n"
     ]
    },
    {
     "name": "stdin",
     "output_type": "stream",
     "text": [
      "Which day of the week do you want to add a task to? Type DONE if finished  friday\n"
     ]
    },
    {
     "name": "stdout",
     "output_type": "stream",
     "text": [
      "Thank-You! Day is valid\n"
     ]
    },
    {
     "name": "stdin",
     "output_type": "stream",
     "text": [
      "What is the task? mowing\n"
     ]
    },
    {
     "name": "stdout",
     "output_type": "stream",
     "text": [
      "Alright! Mowing has been added to Friday\n"
     ]
    },
    {
     "name": "stdin",
     "output_type": "stream",
     "text": [
      "Which day of the week do you want to add a task to? Type DONE if finished  saturday\n"
     ]
    },
    {
     "name": "stdout",
     "output_type": "stream",
     "text": [
      "Thank-You! Day is valid\n"
     ]
    },
    {
     "name": "stdin",
     "output_type": "stream",
     "text": [
      "What is the task? clean garage\n"
     ]
    },
    {
     "name": "stdout",
     "output_type": "stream",
     "text": [
      "Alright! Clean Garage has been added to Saturday\n"
     ]
    },
    {
     "name": "stdin",
     "output_type": "stream",
     "text": [
      "Which day of the week do you want to add a task to? Type DONE if finished  sunday\n"
     ]
    },
    {
     "name": "stdout",
     "output_type": "stream",
     "text": [
      "Thank-You! Day is valid\n"
     ]
    },
    {
     "name": "stdin",
     "output_type": "stream",
     "text": [
      "What is the task? walk dog\n"
     ]
    },
    {
     "name": "stdout",
     "output_type": "stream",
     "text": [
      "Alright! Walk Dog has been added to Sunday\n"
     ]
    },
    {
     "name": "stdin",
     "output_type": "stream",
     "text": [
      "Which day of the week do you want to add a task to? Type DONE if finished  done\n"
     ]
    },
    {
     "name": "stdout",
     "output_type": "stream",
     "text": [
      "Finished adding tasks.\n",
      "{'Monday': {'Painting': False}, 'Tuesday': {'Washing': False}, 'Wednesday': {'Cutting': False}, 'Thursday': {'Trimming': False}, 'Friday': {'Mowing': False}, 'Saturday': {'Clean Garage': False}, 'Sunday': {'Walk Dog': False}}\n"
     ]
    }
   ],
   "source": [
    "\n",
    "#PART 2\n",
    "#Defining a function for user to add tasks\n",
    "def add_tasks(task_add):\n",
    "    \n",
    "    print('Welcome to the add task manager. Please provide the information below. Type DONE when finished')\n",
    "    while True:\n",
    "        day = input('Which day of the week do you want to add a task to? Type DONE if finished ')\n",
    "        day = day.strip().title()\n",
    "        if day == \"Done\":\n",
    "            print(\"Finished adding tasks.\") # Cancel the operation if done is entered\n",
    "            break # Exit the while loop\n",
    "        if day in list_day_week: #check that day is valid\n",
    "            print('Thank-You! Day is valid')\n",
    "            new_task = input('What is the task?')\n",
    "            new_task = new_task.title()\n",
    "\n",
    "            #Adding task to the dictionary\n",
    "            if new_task not in task_add[day]:\n",
    "                task_add[day][new_task] = False #add new_task as a key\n",
    "                #task_add[day][\"Completed\"] = []\n",
    "                #task_add[day][\"tasks\"] = new_task\n",
    "                #if new_task not in task_add[day][\"tasks\"]:\n",
    "                 #   task_add[day][\"tasks\"] = new_task\n",
    "                  #  task_add[day][\"completed\"]= False\n",
    "                print(f'Alright! {new_task} has been added to {day}')\n",
    "            else:\n",
    "                print(\"Task already exists!\")#If task exists print message\n",
    "        else:\n",
    "            print('Invalid day! Must be any day of the week') #if day is incorrect display message\n",
    "    return task_add\n",
    "#tasks_dict = task_add\n",
    "#add_tasks(tasks_dict)\n",
    "tasks_dict = add_tasks(tasks_dict)\n",
    "print(tasks_dict) #Can uncomment to see tasks\n",
    "\n"
   ]
  },
  {
   "cell_type": "code",
   "execution_count": 19,
   "id": "f44ebba9-e973-4202-b55e-99a6df90af4c",
   "metadata": {},
   "outputs": [
    {
     "name": "stdout",
     "output_type": "stream",
     "text": [
      "{'Monday': {}, 'Tuesday': {}, 'Wednesday': {}, 'Thursday': {}, 'Friday': {}, 'Saturday': {}, 'Sunday': {}}\n"
     ]
    }
   ],
   "source": [
    "print(tasks_dict)\n",
    "#del tasks_dict[\"Thursday\"][\"Wednesday\"]"
   ]
  },
  {
   "cell_type": "code",
   "execution_count": null,
   "id": "63e07dd5-480a-4674-9524-f727b4acc41d",
   "metadata": {},
   "outputs": [],
   "source": []
  },
  {
   "cell_type": "code",
   "execution_count": 4,
   "id": "fabba37c-5954-416f-8a3f-91d2b09d45b2",
   "metadata": {},
   "outputs": [
    {
     "name": "stdout",
     "output_type": "stream",
     "text": [
      "{}\n",
      "Welcome to the add habits manager. Let's add some habits. Type DONE when finished\n"
     ]
    },
    {
     "name": "stdin",
     "output_type": "stream",
     "text": [
      "What habit do you want to add? Remember type DONE if finished reading\n"
     ]
    },
    {
     "name": "stdout",
     "output_type": "stream",
     "text": [
      "Reading habit has been added!\n"
     ]
    },
    {
     "name": "stdin",
     "output_type": "stream",
     "text": [
      "What habit do you want to add? Remember type DONE if finished walking\n"
     ]
    },
    {
     "name": "stdout",
     "output_type": "stream",
     "text": [
      "Walking habit has been added!\n"
     ]
    },
    {
     "name": "stdin",
     "output_type": "stream",
     "text": [
      "What habit do you want to add? Remember type DONE if finished biking\n"
     ]
    },
    {
     "name": "stdout",
     "output_type": "stream",
     "text": [
      "Biking habit has been added!\n"
     ]
    },
    {
     "name": "stdin",
     "output_type": "stream",
     "text": [
      "What habit do you want to add? Remember type DONE if finished drink more water\n"
     ]
    },
    {
     "name": "stdout",
     "output_type": "stream",
     "text": [
      "Drink More Water habit has been added!\n"
     ]
    },
    {
     "name": "stdin",
     "output_type": "stream",
     "text": [
      "What habit do you want to add? Remember type DONE if finished hiking\n"
     ]
    },
    {
     "name": "stdout",
     "output_type": "stream",
     "text": [
      "Hiking habit has been added!\n"
     ]
    },
    {
     "name": "stdin",
     "output_type": "stream",
     "text": [
      "What habit do you want to add? Remember type DONE if finished running\n"
     ]
    },
    {
     "name": "stdout",
     "output_type": "stream",
     "text": [
      "Running habit has been added!\n"
     ]
    },
    {
     "name": "stdin",
     "output_type": "stream",
     "text": [
      "What habit do you want to add? Remember type DONE if finished done\n"
     ]
    },
    {
     "name": "stdout",
     "output_type": "stream",
     "text": [
      "Finished adding habits.\n",
      "{'Reading': {'Monday': False, 'Tuesday': False, 'Wednesday': False, 'Thursday': False, 'Friday': False, 'Saturday': False, 'Sunday': False}, 'Walking': {'Monday': False, 'Tuesday': False, 'Wednesday': False, 'Thursday': False, 'Friday': False, 'Saturday': False, 'Sunday': False}, 'Biking': {'Monday': False, 'Tuesday': False, 'Wednesday': False, 'Thursday': False, 'Friday': False, 'Saturday': False, 'Sunday': False}, 'Drink More Water': {'Monday': False, 'Tuesday': False, 'Wednesday': False, 'Thursday': False, 'Friday': False, 'Saturday': False, 'Sunday': False}, 'Hiking': {'Monday': False, 'Tuesday': False, 'Wednesday': False, 'Thursday': False, 'Friday': False, 'Saturday': False, 'Sunday': False}, 'Running': {'Monday': False, 'Tuesday': False, 'Wednesday': False, 'Thursday': False, 'Friday': False, 'Saturday': False, 'Sunday': False}}\n"
     ]
    }
   ],
   "source": [
    "#Part 2b Function for adding habits to track habits dictionary\n",
    "#Setting habits completeness value to false for each day\n",
    "\n",
    "#Empty Dictionary to store habits.\n",
    "#habits_dict = {}\n",
    "\n",
    "def add_habits(habit_pass):\n",
    "    print(habit_pass)\n",
    "    print(\"Welcome to the add habits manager. Let's add some habits. Type DONE when finished\")          \n",
    "    while True: \n",
    "        new_habit = input('What habit do you want to add? Remember type DONE if finished')\n",
    "        new_habit = new_habit.strip().title()\n",
    "        if new_habit in list_day_week:\n",
    "            print('OOPS! You entered a day of the week instead of a habit. Please re-enter a habit!')\n",
    "            continue\n",
    "        if new_habit == \"Done\": #If user types done the operation is cancelled\n",
    "            print(\"Finished adding habits.\")\n",
    "            break # Exit the while loop\n",
    "        if new_habit not in habit_pass:\n",
    "            habit_pass[new_habit] = {day: False for day in list_day_week} #adding habit to the dictionary\n",
    "            \n",
    "            print(new_habit + ' habit has been added!') #message saying it's added\n",
    "        \n",
    "        else:\n",
    "            print('This habit has already been added. Try another habit please.') #if habit exists display message \n",
    "    return habit_pass\n",
    "habits_dict = add_habits(habits_dict)\n",
    "\n",
    "print(habits_dict) #Can uncomment to see list of habits"
   ]
  },
  {
   "cell_type": "code",
   "execution_count": 3,
   "id": "c6e28e57-8899-46ab-aa68-3d7c18a7016e",
   "metadata": {},
   "outputs": [
    {
     "name": "stdout",
     "output_type": "stream",
     "text": [
      "{}\n"
     ]
    }
   ],
   "source": [
    "print(habits_dict)\n",
    "#del habits_dict[\"Tuesday\"]"
   ]
  },
  {
   "cell_type": "code",
   "execution_count": 381,
   "id": "4c99db9a-7c06-49ba-bf51-19f19e2967fd",
   "metadata": {},
   "outputs": [
    {
     "name": "stdout",
     "output_type": "stream",
     "text": [
      "Here is a list of uncompleted tasks!\n",
      "Monday = {'Painting': True, 'Cleaning': True}\n",
      "Tuesday = {'Washing': True, 'Wash Truck': False}\n",
      "Wednesday = {'Cutting': False}\n",
      "Thursday = {'Trimming': False}\n",
      "Friday = {'Mowing': True}\n",
      "Saturday = {'Clean Garage': False}\n",
      "Sunday = {'Walk Dog': False}\n"
     ]
    },
    {
     "name": "stdin",
     "output_type": "stream",
     "text": [
      "Did you complete any tasks? Y/N y\n",
      "Which day did you complete the task on? tuesday\n"
     ]
    },
    {
     "name": "stdout",
     "output_type": "stream",
     "text": [
      "Thank-You! Day is valid\n"
     ]
    },
    {
     "name": "stdin",
     "output_type": "stream",
     "text": [
      "Enter a task that you have completed. wash truck\n"
     ]
    },
    {
     "name": "stdout",
     "output_type": "stream",
     "text": [
      "Task Wash Truck on Tuesday has been updated to completed! Yahoo\n"
     ]
    }
   ],
   "source": [
    "#Part 3\n",
    "#Function to show uncompleted tasks.\n",
    "#Ask for name of task completed and update dict. to reflect.(set completed value to true)\n",
    "# If all completed display message saying so.\n",
    "#Display message if task does not exist. Validate day input\n",
    "# If task completed day before current day, display a nice encouraging message\n",
    "\n",
    "def tasks_incompleted(tasks_incompl):\n",
    "    \n",
    "    print('Here is a list of uncompleted tasks!')\n",
    "    for key, value in tasks_incompl.items():\n",
    "        print(f\"{key} = {value}\") #Displaying the day\n",
    "    compl_yn = input('Did you complete any tasks? Y/N')\n",
    "    compl_yn = compl_yn.upper()\n",
    "    if compl_yn == 'Y':\n",
    "        \n",
    "        while True: #Loop to check for validity of day \n",
    "            day_compl = input('Which day did you complete the task on?').strip().title() #Asking for the day a task was completed on\n",
    "            if day_compl in list_day_week: #check that day is valid\n",
    "                print('Thank-You! Day is valid')\n",
    "                break\n",
    "            else:\n",
    "                print('Day is not correct! Please fix!') #Will loop back to ask for day if it was initially incorrect\n",
    "                \n",
    "        task_compl = input('Enter a task that you have completed.').strip().title()\n",
    "        for key, value in tasks_incompl.items(): #For the day in dictionary and the task for that day update to true(completed)\n",
    "            if key == day_compl:\n",
    "                for value in tasks_incompl[key].values():\n",
    "                    \n",
    "                    tasks_incompl[day_compl][task_compl] = True\n",
    "        print(f\"Task {task_compl} on {day_compl} has been updated to completed! Yahoo\") #Message to inform task has been updated to completed\n",
    "            \n",
    "    else:\n",
    "        print('No tasks completed yet. You got this. Maybe tomorrow!') #Message to display if no tasks were completed.\n",
    "    return tasks_incompl\n",
    "#print(\"Okay! Let's see all uncompleted tasks and their day\")\n",
    "tasks_dict = tasks_incompleted(tasks_dict)\n"
   ]
  },
  {
   "cell_type": "code",
   "execution_count": 107,
   "id": "1dc69049-5281-4349-a7fe-dbe69bbe4158",
   "metadata": {},
   "outputs": [
    {
     "name": "stdout",
     "output_type": "stream",
     "text": [
      "{'Monday': {'Painting': True}, 'Tuesday': {'Washing': True}, 'Wednesday': {'Cutting': False}, 'Thursday': {'Trimming': False}, 'Friday': {'Mowing': False}, 'Saturday': {'Clean Garage': False}, 'Sunday': {'Walk Dog': False}}\n"
     ]
    }
   ],
   "source": [
    "print(tasks_dict)\n",
    "#del tasks_dict[\"Monday\"][\"painting\"]"
   ]
  },
  {
   "cell_type": "code",
   "execution_count": 322,
   "id": "2b7b728f-9a8d-4ea0-b411-b254aa9b4520",
   "metadata": {},
   "outputs": [
    {
     "name": "stdin",
     "output_type": "stream",
     "text": [
      "Would you like to mark a habit as completed? Y/N y\n",
      "What day is the habit on? saturday\n"
     ]
    },
    {
     "name": "stdout",
     "output_type": "stream",
     "text": [
      "Day is valid\n"
     ]
    },
    {
     "name": "stdin",
     "output_type": "stream",
     "text": [
      "Which habit is completed? drink more water\n"
     ]
    },
    {
     "name": "stdout",
     "output_type": "stream",
     "text": [
      "Drink More Water does not exist. Try again\n"
     ]
    },
    {
     "name": "stdin",
     "output_type": "stream",
     "text": [
      "Which habit is completed? drink water\n"
     ]
    },
    {
     "name": "stdout",
     "output_type": "stream",
     "text": [
      "Drink Water on Saturday has been updated to completed\n"
     ]
    }
   ],
   "source": [
    "#Function to mark habits as completed.\n",
    "def mark_habits_true(habit_pass):\n",
    "    if habit_pass is None or habit_pass == {}:                                #Check to see if habit dict has any habits.\n",
    "        empty_add = input(\"OOPS! No habits are being tracked yet. Want to add some? Yes/No\").strip().title()\n",
    "        if empty_add == \"Yes\":\n",
    "            add_habits(habit_pass)\n",
    "    else:\n",
    "        mark_hab_yn = input('Would you like to mark a habit as completed? Y/N')\n",
    "        mark_hab_yn = mark_hab_yn.strip().title()\n",
    "        if mark_hab_yn == \"Y\":\n",
    "    \n",
    "            while True:\n",
    "                day_hab_comp = input('What day is the habit on?').strip().title()\n",
    "                if day_hab_comp in list_day_week:\n",
    "                    print('Day is valid')\n",
    "                    break\n",
    "                else:\n",
    "                        print('Day is not correct! Please fix!') #Will loop back to ask for day if it was initially incorrect\n",
    "            while True:        \n",
    "                hab_comp = input('Which habit is completed?').strip().title()\n",
    "                #empty = return habit_pass\n",
    "                if hab_comp in habit_pass:\n",
    "                    #print(f\"{hab_comp} is being tracked\")\n",
    "                    for key, value in habit_pass.items(): #Loop through habits and mark completed(true) for specific day.\n",
    "                        if key == hab_comp:\n",
    "                            for value in habit_pass.values():\n",
    "                                habit_pass[hab_comp][day_hab_comp] = True\n",
    "                    print(f\"{hab_comp} on {day_hab_comp} has been updated to completed\")\n",
    "                    break\n",
    "                    \n",
    "                \n",
    "                else:\n",
    "                    print(f\"{hab_comp} does not exist. Try again\")\n",
    "                    continue\n",
    "    return habit_pass\n",
    "habits_dict = mark_habits_true(habits_dict)\n",
    "        "
   ]
  },
  {
   "cell_type": "code",
   "execution_count": 382,
   "id": "5855963e-eaaf-4caa-8143-fe8fd2e40a6d",
   "metadata": {},
   "outputs": [
    {
     "name": "stdout",
     "output_type": "stream",
     "text": [
      "{'Reading': {'Monday': True, 'Tuesday': True, 'Wednesday': False, 'Thursday': False, 'Friday': False, 'Saturday': False, 'Sunday': False}, 'Walking': {'Monday': False, 'Tuesday': True, 'Wednesday': False, 'Thursday': False, 'Friday': False, 'Saturday': False, 'Sunday': False}, 'Biking': {'Monday': False, 'Tuesday': False, 'Wednesday': False, 'Thursday': False, 'Friday': False, 'Saturday': False, 'Sunday': False}, 'Drink Water': {'Monday': False, 'Tuesday': False, 'Wednesday': False, 'Thursday': False, 'Friday': False, 'Saturday': True, 'Sunday': False}, 'Hiking': {'Monday': False, 'Tuesday': False, 'Wednesday': False, 'Thursday': False, 'Friday': False, 'Saturday': False, 'Sunday': False}, 'Running': {'Monday': False, 'Tuesday': False, 'Wednesday': True, 'Thursday': False, 'Friday': False, 'Saturday': False, 'Sunday': False}}\n"
     ]
    }
   ],
   "source": [
    "print(f\"{habits_dict}\")\n",
    "#del habits_dict[\"Reading\"]"
   ]
  },
  {
   "cell_type": "code",
   "execution_count": 311,
   "id": "89e652b2-d37d-410c-9352-e4fe30f0ece2",
   "metadata": {},
   "outputs": [
    {
     "name": "stdout",
     "output_type": "stream",
     "text": [
      "You can remove tasks if you want! Please provide the information below.\n"
     ]
    },
    {
     "name": "stdin",
     "output_type": "stream",
     "text": [
      "Which day is the task you want to remove on? tuesday\n"
     ]
    },
    {
     "name": "stdout",
     "output_type": "stream",
     "text": [
      "Day is valid\n",
      "There are no tasks for Tuesday.\n"
     ]
    },
    {
     "name": "stdin",
     "output_type": "stream",
     "text": [
      "Which day is the task you want to remove on? wednesday\n"
     ]
    },
    {
     "name": "stdout",
     "output_type": "stream",
     "text": [
      "Day is valid\n",
      "There are no tasks for Wednesday.\n"
     ]
    },
    {
     "name": "stdin",
     "output_type": "stream",
     "text": [
      "Which day is the task you want to remove on? monday\n"
     ]
    },
    {
     "name": "stdout",
     "output_type": "stream",
     "text": [
      "Day is valid\n",
      "\n",
      "Here is a list of tasks for Monday:\n",
      "1. Washing: False\n"
     ]
    },
    {
     "name": "stdin",
     "output_type": "stream",
     "text": [
      "Enter the number of the task you want to remove (or 'cancel' to abort):  1\n"
     ]
    },
    {
     "name": "stdout",
     "output_type": "stream",
     "text": [
      "Task 'Washing' removed from Monday.\n"
     ]
    }
   ],
   "source": [
    "def rm_tasks(task_rem):\n",
    "    print('You can remove tasks if you want! Please provide the information below.')\n",
    "    while True:\n",
    "        task_day = input('Which day is the task you want to remove on?').strip().title()\n",
    "        if task_day in list_day_week:\n",
    "            print('Day is valid')\n",
    "            #break\n",
    "        else:\n",
    "            print('Day is not correct! Please fix!') #Will loop back to ask for day if it was initially incorrect\n",
    "            continue\n",
    "    \n",
    "        current_day_tasks = task_rem.get(task_day, {})\n",
    "        if not current_day_tasks: # Check to see if the day is empty and display message if so.\n",
    "            print(f\"There are no tasks for {task_day}.\")\n",
    "            continue   #return # Exit the function if there are no tasks to remove\n",
    "        else:\n",
    "            print(f\"\\nHere is a list of tasks for {task_day}:\")\n",
    "            for i, (task_name, task_details) in enumerate(current_day_tasks.items(), 1): # Display tasks numbered in casd more than 1.\n",
    "                print(f\"{i}. {task_name}: {task_details}\")\n",
    "        break\n",
    "        \n",
    "    while True:\n",
    "        try:\n",
    "            to_rem = input(\"Enter the number of the task you want to remove (or 'cancel' to abort): \").strip().lower()\n",
    "            if to_rem == 'cancel':\n",
    "                print(\"Task removal cancelled.\")\n",
    "                return\n",
    "            task_num = int(to_rem)  # Convert task number to actual task key\n",
    "            if 1 <= task_num <= len(current_day_tasks):\n",
    "                task_keys = list(current_day_tasks.keys())\n",
    "                task_key_rem = task_keys[task_num - 1]\n",
    "                del current_day_tasks[task_key_rem] # Remove the task\n",
    "            print(f\"Task '{task_key_rem}' removed from {task_day}.\")\n",
    "            break\n",
    "        except ValueError:\n",
    "                print(\"Invalid input. Please enter a number or 'cancel'.\")\n",
    "    return task_rem\n",
    "tasks_dict = rm_tasks(tasks_dict)"
   ]
  },
  {
   "cell_type": "code",
   "execution_count": 312,
   "id": "35b9145c-3d7f-45b6-ad18-c94fc5bd0731",
   "metadata": {},
   "outputs": [
    {
     "name": "stdout",
     "output_type": "stream",
     "text": [
      "{'Monday': {}, 'Tuesday': {}, 'Wednesday': {}, 'Thursday': {}, 'Friday': {}, 'Saturday': {}, 'Sunday': {}}\n"
     ]
    }
   ],
   "source": [
    "print(tasks_dict)"
   ]
  },
  {
   "cell_type": "code",
   "execution_count": 344,
   "id": "3e4fb18a-636f-45d2-823e-d0f2b9651ed6",
   "metadata": {},
   "outputs": [
    {
     "name": "stdout",
     "output_type": "stream",
     "text": [
      "You can remove habits if you want! Please provide the information below.\n"
     ]
    },
    {
     "name": "stdin",
     "output_type": "stream",
     "text": [
      "Would you like to remove a habit? Yes or No yes\n"
     ]
    },
    {
     "name": "stdout",
     "output_type": "stream",
     "text": [
      "Here is a list of habits you are tracking.\n",
      "\n",
      "Walking = {'Wednesday': False, 'Thursday': False, 'Friday': False, 'Saturday': False, 'Sunday': False}\n",
      "Biking = {'Monday': False, 'Tuesday': False, 'Wednesday': False, 'Thursday': False, 'Friday': False, 'Saturday': False, 'Sunday': False}\n",
      "Hiking = {'Monday': False, 'Tuesday': False, 'Wednesday': False, 'Thursday': False, 'Friday': False, 'Saturday': False, 'Sunday': False}\n"
     ]
    },
    {
     "name": "stdin",
     "output_type": "stream",
     "text": [
      "Which habit do you want to remove? walking\n",
      "On which day do you want Walking to be removed from? wednesday\n"
     ]
    },
    {
     "name": "stdout",
     "output_type": "stream",
     "text": [
      "Day is valid\n",
      "Walking has been removed from the habit tracker on Wednesday.\n"
     ]
    }
   ],
   "source": [
    "def rm_habits(pass_habit):\n",
    "    print('You can remove habits if you want! Please provide the information below.')\n",
    "    while True:\n",
    "        if pass_habit is None:                                  #Check to see if habit dict has any habits.\n",
    "            print(\"OOPS! No habits are being tracked yet.\")\n",
    "        else:\n",
    "            habit_rem_yn = input('Would you like to remove a habit? Yes or No').strip().title()\n",
    "        if habit_rem_yn == \"Yes\":\n",
    "            print('Here is a list of habits you are tracking.\\n')\n",
    "            for key, value in pass_habit.items():\n",
    "               print(f\"{key} = {value}\")\n",
    "            habit_rem = input('Which habit do you want to remove?').strip().title()\n",
    "            while True:\n",
    "                habit_day_rem = input(f\"On which day do you want {habit_rem} to be removed from?\").strip().title()\n",
    "                if habit_day_rem in list_day_week:\n",
    "                    print('Day is valid')\n",
    "                else:\n",
    "                    print(habit_day_rem)\n",
    "                    print('Day not correct. Please fix')\n",
    "                break\n",
    "                    \n",
    "            if habit_rem in pass_habit:\n",
    "                del pass_habit[habit_rem][habit_day_rem]\n",
    "                print(f\"{habit_rem} has been removed from the habit tracker on {habit_day_rem}.\")\n",
    "        else:\n",
    "            print('Removing habit is cancelled')\n",
    "            return\n",
    "        break\n",
    "rm_habits(habits_dict)\n",
    "    "
   ]
  },
  {
   "cell_type": "code",
   "execution_count": 31,
   "id": "bdeb4bf0-739c-414b-a218-36206e555054",
   "metadata": {},
   "outputs": [
    {
     "name": "stdout",
     "output_type": "stream",
     "text": [
      "{'Reading': {'Monday': True, 'Tuesday': False, 'Wednesday': False, 'Thursday': False, 'Friday': False, 'Saturday': False, 'Sunday': False}, 'Walking': {'Monday': False, 'Tuesday': False, 'Wednesday': False, 'Thursday': False, 'Friday': False, 'Saturday': False, 'Sunday': False}, 'Biking': {'Monday': False, 'Tuesday': False, 'Wednesday': False, 'Thursday': False, 'Friday': False, 'Saturday': False, 'Sunday': False}, 'Drink More Water': {'Monday': False, 'Tuesday': False, 'Wednesday': False, 'Thursday': False, 'Friday': False, 'Saturday': False, 'Sunday': False}, 'Hiking': {'Monday': False, 'Tuesday': False, 'Wednesday': False, 'Thursday': False, 'Friday': False, 'Saturday': False, 'Sunday': False}, 'Running': {'Monday': False, 'Tuesday': False, 'Wednesday': False, 'Thursday': False, 'Friday': False, 'Saturday': False, 'Sunday': False}}\n"
     ]
    }
   ],
   "source": [
    "print(habits_dict)"
   ]
  },
  {
   "cell_type": "code",
   "execution_count": 449,
   "id": "fcf0c490-603d-4861-8a7e-706fe88b0565",
   "metadata": {},
   "outputs": [
    {
     "name": "stdout",
     "output_type": "stream",
     "text": [
      "Welcome to the weekly report generator. You can create a report of the habits completed or a report of tasks completed or incompleted.\n",
      "**************************************************************************************************************************************\n"
     ]
    },
    {
     "name": "stdin",
     "output_type": "stream",
     "text": [
      "Do you want to create a report for your habits and tasks? Y/N y\n"
     ]
    },
    {
     "name": "stdout",
     "output_type": "stream",
     "text": [
      "Alright. Let's create a report. For your convenience here is a list of your habits and tasks\n",
      "\n",
      "My Habits so far:\n",
      "Reading Walking Biking Drink Water Hiking Running\n",
      "\n",
      "My Tasks so far:\n",
      "Painting,  Cleaning,  Washing,  Wash Truck,  Cutting,  Trimming,  Mowing,  Clean Garage,  Walk Dog,  \n",
      "\n",
      "**************************************************************************************************************************************\n",
      "Habits Completed for the week of June 09, 2025!\n",
      " \n",
      "Reading was completed 2 days out of 7 this week.\n",
      "Walking was completed 1 day out of 7 this week.\n",
      "Drink Water was completed 1 day out of 7 this week.\n",
      "Running was completed 1 day out of 7 this week.\n",
      " \n",
      "Completed Tasks for the week of June 09, 2025\n",
      "Painting (Monday), Cleaning (Monday), Washing (Tuesday), Wash Truck (Tuesday), Mowing (Friday)\n",
      "\n",
      "Uncompleted tasks for the week of June 09, 2025\n",
      "Cutting (Wednesday), Trimming (Thursday), Clean Garage (Saturday), Walk Dog (Sunday)\n"
     ]
    }
   ],
   "source": [
    "def weekly_report(hab_rep,task_rep):\n",
    "    #get_date_start_week() #Don't really need this here but have to call the function somewhere\n",
    "    heading = \"Welcome to the weekly report generator. You can create a report of the habits completed or a report of tasks completed or incompleted.\"\n",
    "    print(heading)\n",
    "    print(\"*\" * len(heading))\n",
    "    #print('Welcome to the weekly report generator. You can create a report of the habits completed\\n or a report of tasks completed or incompleted.')\n",
    "    rep_yn = input('Do you want to create a report for your habits and tasks? Y/N').strip().title()\n",
    "  \n",
    "    \n",
    "    if rep_yn == \"Y\":\n",
    "        if not hab_rep:\n",
    "            print('Sorry! But there are no habits being tracked') #Need to empy habits to check this.\n",
    "        elif not task_rep:\n",
    "            print('Sorry! But there are no tasks being tracked') #Need to empy tasks to check this.\n",
    "        else:\n",
    "            print(\"Alright. Let's create a report. For your convenience here is a list of your habits and tasks\" + '\\n')\n",
    "            print('My Habits so far:')\n",
    "            print(*habits_dict) #Need comma in between habits\n",
    "            print()\n",
    "            print('My Tasks so far:')\n",
    "            \n",
    "            for day,tasks in tasks_dict.items():\n",
    "                for task_name in tasks.keys():\n",
    "                    print(f\"{task_name}, \", end=' ') \n",
    "           \n",
    "            print(\"\\n\")\n",
    "            print('*' * len(heading))\n",
    "    \n",
    "            #Loop though habits to count number of time each habit was completed\n",
    "            print(f\"Habits Completed for the week of {formatted_date}!\")\n",
    "            print(' ')\n",
    "            \n",
    "            for habit,day in hab_rep.items():\n",
    "                num_compl = 0\n",
    "                for day, compl in day.items(): \n",
    "                    if compl:\n",
    "                        num_compl += 1 \n",
    "                if num_compl > 1:\n",
    "                    print(f\"{habit} was completed {num_compl} days out of 7 this week.\") #So print says days(plural)\n",
    "                elif num_compl == 1:\n",
    "                    print(f\"{habit} was completed {num_compl} day out of 7 this week.\") #So it prints day(singular)\n",
    "            print(' ')\n",
    "\n",
    "            \n",
    "            #Loop through tasks dict and list tasks as completed and incompleted\n",
    "            \n",
    "            \n",
    "            task_compl_list = []\n",
    "            task_notcompl_list = []\n",
    "            for day, task in task_rep.items():\n",
    "                for task_name, compl in task.items():\n",
    "                    formatted_task = f\"{task_name} ({day})\"\n",
    "                    if compl:\n",
    "                        task_compl_list.append(formatted_task)\n",
    "                    else:\n",
    "                        task_notcompl_list.append(formatted_task)\n",
    "                        \n",
    "            print(f\"Completed Tasks for the week of {formatted_date}\")\n",
    "            #get_date_start_week()\n",
    "            if task_compl_list:\n",
    "                print(\", \".join(task_compl_list)) #.join() to print all tasks on a single line\n",
    "            else:\n",
    "                print(\"No tasks completed this week.\")\n",
    "            print(\"\\n\"f\"Uncompleted tasks for the week of {formatted_date}\")\n",
    "            if task_notcompl_list:\n",
    "                print(\", \".join(task_notcompl_list))\n",
    "            else:\n",
    "                print(\"All tasks completed! (Or no uncompleted tasks found).\")\n",
    "    else:\n",
    "        print('Reporting has been cancelled!')\n",
    "        \n",
    "\n",
    "\n",
    "week_rep = weekly_report(habits_dict,tasks_dict)"
   ]
  },
  {
   "cell_type": "code",
   "execution_count": 423,
   "id": "638ff7a4-ee9a-4971-b608-84df31406eb6",
   "metadata": {},
   "outputs": [
    {
     "name": "stdout",
     "output_type": "stream",
     "text": [
      "{'Reading': {'Monday': True, 'Tuesday': True, 'Wednesday': False, 'Thursday': False, 'Friday': False, 'Saturday': False, 'Sunday': False}, 'Walking': {'Monday': False, 'Tuesday': True, 'Wednesday': False, 'Thursday': False, 'Friday': False, 'Saturday': False, 'Sunday': False}, 'Biking': {'Monday': False, 'Tuesday': False, 'Wednesday': False, 'Thursday': False, 'Friday': False, 'Saturday': False, 'Sunday': False}, 'Drink Water': {'Monday': False, 'Tuesday': False, 'Wednesday': False, 'Thursday': False, 'Friday': False, 'Saturday': True, 'Sunday': False}, 'Hiking': {'Monday': False, 'Tuesday': False, 'Wednesday': False, 'Thursday': False, 'Friday': False, 'Saturday': False, 'Sunday': False}, 'Running': {'Monday': False, 'Tuesday': False, 'Wednesday': True, 'Thursday': False, 'Friday': False, 'Saturday': False, 'Sunday': False}}\n"
     ]
    }
   ],
   "source": [
    "print(habits_dict)\n",
    "#add_habits(habits_dict)\n",
    "#habits_dict = mark_habits_true(habits_dict)"
   ]
  },
  {
   "cell_type": "code",
   "execution_count": 379,
   "id": "fc29ae70-c0db-452c-9640-3e78a3dc07c9",
   "metadata": {},
   "outputs": [
    {
     "name": "stdout",
     "output_type": "stream",
     "text": [
      "Welcome to the add task manager. Please provide the information below. Type DONE when finished\n"
     ]
    },
    {
     "name": "stdin",
     "output_type": "stream",
     "text": [
      "Which day of the week do you want to add a task to? Type DONE if finished  monday\n"
     ]
    },
    {
     "name": "stdout",
     "output_type": "stream",
     "text": [
      "Thank-You! Day is valid\n"
     ]
    },
    {
     "name": "stdin",
     "output_type": "stream",
     "text": [
      "What is the task? cleaning\n"
     ]
    },
    {
     "name": "stdout",
     "output_type": "stream",
     "text": [
      "Alright! Cleaning has been added to Monday\n"
     ]
    },
    {
     "name": "stdin",
     "output_type": "stream",
     "text": [
      "Which day of the week do you want to add a task to? Type DONE if finished  tuesday\n"
     ]
    },
    {
     "name": "stdout",
     "output_type": "stream",
     "text": [
      "Thank-You! Day is valid\n"
     ]
    },
    {
     "name": "stdin",
     "output_type": "stream",
     "text": [
      "What is the task? wash truck\n"
     ]
    },
    {
     "name": "stdout",
     "output_type": "stream",
     "text": [
      "Alright! Wash Truck has been added to Tuesday\n"
     ]
    },
    {
     "name": "stdin",
     "output_type": "stream",
     "text": [
      "Which day of the week do you want to add a task to? Type DONE if finished  done\n"
     ]
    },
    {
     "name": "stdout",
     "output_type": "stream",
     "text": [
      "Finished adding tasks.\n"
     ]
    },
    {
     "data": {
      "text/plain": [
       "{'Monday': {'Painting': True, 'Cleaning': False},\n",
       " 'Tuesday': {'Washing': True, 'Wash Truck': False},\n",
       " 'Wednesday': {'Cutting': False},\n",
       " 'Thursday': {'Trimming': False},\n",
       " 'Friday': {'Mowing': True},\n",
       " 'Saturday': {'Clean Garage': False},\n",
       " 'Sunday': {'Walk Dog': False}}"
      ]
     },
     "execution_count": 379,
     "metadata": {},
     "output_type": "execute_result"
    }
   ],
   "source": [
    "#print(tasks_dict)\n",
    "add_tasks(tasks_dict)\n",
    "#tasks_dict = tasks_incompleted(tasks_dict)"
   ]
  },
  {
   "cell_type": "code",
   "execution_count": 324,
   "id": "a976bbd0-207e-4091-94f0-0f3ae742a797",
   "metadata": {},
   "outputs": [
    {
     "name": "stdout",
     "output_type": "stream",
     "text": [
      "June 09, 2025\n",
      "for the week of June 09, 2025\n"
     ]
    },
    {
     "data": {
      "text/plain": [
       "'June 09, 2025'"
      ]
     },
     "execution_count": 324,
     "metadata": {},
     "output_type": "execute_result"
    }
   ],
   "source": [
    "def get_date_start_week():\n",
    "    today = datetime.date.today()\n",
    "    # Calculate the start of the week (Monday)\n",
    "    # weekday() returns 0 for Monday, 1 for Tuesday, ..., 6 for Sunday\n",
    "    days_since_monday = today.weekday()\n",
    "    display_date = today - datetime.timedelta(days=days_since_monday)\n",
    "    \n",
    "    # Format the date as \"Month Day, Year\"\n",
    "    formatted_date = display_date.strftime(\"%B %d, %Y\")\n",
    "    \n",
    "    print(f\"for the week of {formatted_date}\")\n",
    "    return formatted_date\n",
    "print(formatted_date)\n",
    "get_date_start_week()"
   ]
  },
  {
   "cell_type": "code",
   "execution_count": 441,
   "id": "99aff2ce-7937-4abf-b1fb-d893bcb4dc47",
   "metadata": {},
   "outputs": [
    {
     "name": "stdout",
     "output_type": "stream",
     "text": [
      "Let's take a look at all activities for a specific day\n"
     ]
    },
    {
     "name": "stdin",
     "output_type": "stream",
     "text": [
      "Which day of the week do you want to view activities for? or Done if you want cancel monday\n"
     ]
    },
    {
     "name": "stdout",
     "output_type": "stream",
     "text": [
      "✅--- Completed Tasks for Monday ---✅\n",
      "Monday: Painting, Cleaning\n",
      "\n",
      "❌--- Uncompleted Tasks for Monday ---❌\n",
      "All tasks completed! (Or no uncompleted tasks found).\n",
      "\n",
      "✅--- Completed Habits for Monday ---✅\n",
      "Reading\n",
      "\n",
      "❌--- Uncompleted Habits for Monday ---❌\n",
      "Walking Biking Drink Water Hiking Running\n",
      "\n"
     ]
    },
    {
     "name": "stdin",
     "output_type": "stream",
     "text": [
      "Which day of the week do you want to view activities for? or Done if you want cancel minday\n"
     ]
    },
    {
     "name": "stdout",
     "output_type": "stream",
     "text": [
      "Invalid day.Please fix\n"
     ]
    },
    {
     "name": "stdin",
     "output_type": "stream",
     "text": [
      "Which day of the week do you want to view activities for? or Done if you want cancel done\n"
     ]
    },
    {
     "name": "stdout",
     "output_type": "stream",
     "text": [
      "Cancelling daily report\n"
     ]
    }
   ],
   "source": [
    "#This function allows the user to view all their activity for a specific day.\n",
    "#- Ask the user to enter a day (e.g., \"Monday\").\n",
    "#- If the day is valid:\n",
    "#    - Display all tasks for that day, showing whether each one is complete or not.\n",
    "#    - Display all habits, showing whether they were completed on that day.\n",
    "#- Use ✅ for completed and ❌ for not completed.\n",
    "\n",
    "def daily_report(hab_drep, task_drep):\n",
    "    print(\"Let's take a look at all activities for a specific day\")\n",
    "    \n",
    "    while True:\n",
    "        day_act = input('Which day of the week do you want to view activities for? or Done if you want cancel').strip().title()\n",
    "        if day_act in list_day_week:\n",
    "            #print('Day is valid')\n",
    "            # Getting completed and uncompleted tasks by day entered\n",
    "        \n",
    "            task_compl_list_str = []\n",
    "            task_notcompl_list_str = []\n",
    "            for day, task in task_drep.items():\n",
    "                task_compl_today = []\n",
    "                task_uncompl_today = []\n",
    "                if day == day_act:\n",
    "        \n",
    "                    for task_name, compl in task.items():\n",
    "                        if compl:\n",
    "                            task_compl_today.append(task_name)\n",
    "                        else:\n",
    "                            task_uncompl_today.append(task_name)\n",
    "                    if task_compl_today:\n",
    "                         task_compl_list_str.append(f\"{day}: {', '.join(task_compl_today)}\")\n",
    "                    if task_uncompl_today:\n",
    "                        task_notcompl_list_str.append(f\"{day}: {', '.join(task_uncompl_today)}\")\n",
    "        \n",
    "            print(f\"✅--- Completed Tasks for {day_act} ---✅\")\n",
    "            if task_compl_list_str:\n",
    "                # Join all the daily strings on a single line with a separator\n",
    "                print(''.join(task_compl_list_str))\n",
    "            else:\n",
    "                print(\"No tasks completed today.\")\n",
    "            print() # Add a newline for separation\n",
    "            \n",
    "            print(f\"❌--- Uncompleted Tasks for {day_act} ---❌\")\n",
    "            if task_notcompl_list_str:\n",
    "                # Join all the daily strings on a single line with a separator\n",
    "                print(''.join(task_notcompl_list_str))\n",
    "            else:\n",
    "                print(\"All tasks completed! (Or no uncompleted tasks found).\")\n",
    "            print() # Add a newline\n",
    "        \n",
    "            # Getting completed and uncompleted habits for day entered by user\n",
    "        \n",
    "            #habit_compl_list_str = []\n",
    "            #habit_notcompl_list_str = []\n",
    "            habit_compl_today = []\n",
    "            habit_uncompl_today = []\n",
    "            for hab, compl in hab_drep.items():\n",
    "                \n",
    "                if day_act in compl:\n",
    "                    is_compl = compl[day_act]\n",
    "                    if is_compl:\n",
    "                        habit_compl_today.append(hab)                          \n",
    "                        \n",
    "                    else:\n",
    "                        habit_uncompl_today.append(hab)\n",
    "                else:\n",
    "                    print(f\"Note: '{hab}' has no tracking data for {day_act}\")\n",
    "        \n",
    "                    \n",
    "            print(f\"✅--- Completed Habits for {day_act} ---✅\")\n",
    "            if habit_compl_today:\n",
    "                # Join all the daily strings on a single line with a separator\n",
    "                print(' '.join(habit_compl_today))\n",
    "            else:\n",
    "                print(\"No habits completed today.\")\n",
    "            print() # Add a newline for separation\n",
    "            \n",
    "            print(f\"❌--- Uncompleted Habits for {day_act} ---❌\")\n",
    "            if habit_uncompl_today:\n",
    "                # Join all the daily strings on a single line with a separator\n",
    "                print(' '.join(habit_uncompl_today))\n",
    "            else:\n",
    "                print(\"All habits completed! (Or no uncompleted habits found).\")\n",
    "            print() # Add a newline\n",
    "                #continue#do some stuff\n",
    "        elif day_act == \"Done\":\n",
    "            print('Cancelling daily report')\n",
    "            break\n",
    "        else:\n",
    "            print('Invalid day.Please fix')\n",
    "            continue\n",
    "            \n",
    "daily_rep = daily_report(habits_dict,tasks_dict)"
   ]
  },
  {
   "cell_type": "code",
   "execution_count": null,
   "id": "06ec8eb1-22c3-4e96-a3cf-eed6c9cb80a5",
   "metadata": {},
   "outputs": [],
   "source": []
  }
 ],
 "metadata": {
  "kernelspec": {
   "display_name": "Python 3 (ipykernel)",
   "language": "python",
   "name": "python3"
  },
  "language_info": {
   "codemirror_mode": {
    "name": "ipython",
    "version": 3
   },
   "file_extension": ".py",
   "mimetype": "text/x-python",
   "name": "python",
   "nbconvert_exporter": "python",
   "pygments_lexer": "ipython3",
   "version": "3.12.7"
  }
 },
 "nbformat": 4,
 "nbformat_minor": 5
}
