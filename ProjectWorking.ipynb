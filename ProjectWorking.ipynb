{
 "cells": [
  {
   "cell_type": "code",
   "execution_count": null,
   "id": "3285d59d-b222-4577-bf80-646f5e38c4af",
   "metadata": {
    "ExecuteTime": {
     "end_time": "2025-06-05T00:59:10.060086Z",
     "start_time": "2025-06-05T00:59:10.053755Z"
    }
   },
   "outputs": [],
   "source": [
    "'''\n",
    "Not completely finished. Redone parts 1-3. Part 4 is done. Part 5 not finished...YET\n",
    "Appreciate all feedback.\n",
    "'''\n",
    "\n",
    "#Part 1\n",
    "\n",
    "#Days of week list\n",
    "\n",
    "list_day_week = [\"Monday\",\"Tuesday\",\"Wednesday\",\"Thursday\",\"Friday\",\"Saturday\",\"Sunday\"]\n",
    "\n",
    "#Dictionary to track tasks for the week.\n",
    "\n",
    "tasks_dict = {day: {} for day in list_day_week}  #Looks like\n",
    "                                                  #      Monday: {Clean   false}\n",
    "                                                   #     Tuesday {Painting  False}\n",
    "                                                                                    \n",
    "\n",
    "#Empty Dictionary to store habits.\n",
    "habits_dict = {}"
   ]
  },
  {
   "cell_type": "code",
   "execution_count": 359,
   "id": "ce460696-9fb3-4772-b758-98a6bbb7c734",
   "metadata": {
    "ExecuteTime": {
     "end_time": "2025-06-05T01:00:05.399553Z",
     "start_time": "2025-06-05T00:59:10.099803Z"
    },
    "editable": true,
    "slideshow": {
     "slide_type": ""
    },
    "tags": []
   },
   "outputs": [
    {
     "name": "stdout",
     "output_type": "stream",
     "text": [
      "Welcome to the add task manager. Please provide the information below. Type DONE when finished\n"
     ]
    },
    {
     "name": "stdin",
     "output_type": "stream",
     "text": [
      "Which day of the week do you want to add a task to? Type DONE if finished  thursday\n"
     ]
    },
    {
     "name": "stdout",
     "output_type": "stream",
     "text": [
      "Thank-You! Day is valid\n"
     ]
    },
    {
     "name": "stdin",
     "output_type": "stream",
     "text": [
      "What is the task? cleaning\n"
     ]
    },
    {
     "name": "stdout",
     "output_type": "stream",
     "text": [
      "Alright! Cleaning has been added to Thursday\n"
     ]
    },
    {
     "name": "stdin",
     "output_type": "stream",
     "text": [
      "Which day of the week do you want to add a task to? Type DONE if finished  done\n"
     ]
    },
    {
     "name": "stdout",
     "output_type": "stream",
     "text": [
      "Finished adding tasks.\n",
      "{'Monday': {'Washing': False}, 'Tuesday': {'Mowing': False}, 'Wednesday': {'Painting': False}, 'Thursday': {'Cleaning': False}, 'Friday': {}, 'Saturday': {}, 'Sunday': {}}\n"
     ]
    }
   ],
   "source": [
    "\n",
    "#PART 2\n",
    "#Defining a function for user to add tasks\n",
    "def add_tasks(task_add):\n",
    "    \n",
    "    print('Welcome to the add task manager. Please provide the information below. Type DONE when finished')\n",
    "    while True:\n",
    "        day = input('Which day of the week do you want to add a task to? Type DONE if finished ')\n",
    "        day = day.strip().title()\n",
    "        if day == \"Done\":\n",
    "            print(\"Finished adding tasks.\") # Cancel the operation if done is entered\n",
    "            break # Exit the while loop\n",
    "        if day in list_day_week: #check that day is valid\n",
    "            print('Thank-You! Day is valid')\n",
    "            new_task = input('What is the task?')\n",
    "            new_task = new_task.title()\n",
    "\n",
    "            #Adding task to the dictionary\n",
    "            if new_task not in task_add[day]:\n",
    "                task_add[day][new_task] = False #add new_task as a key\n",
    "                #task_add[day][\"Completed\"] = []\n",
    "                #task_add[day][\"tasks\"] = new_task\n",
    "                #if new_task not in task_add[day][\"tasks\"]:\n",
    "                 #   task_add[day][\"tasks\"] = new_task\n",
    "                  #  task_add[day][\"completed\"]= False\n",
    "                print(f'Alright! {new_task} has been added to {day}')\n",
    "            else:\n",
    "                print(\"Task already exists!\")#If task exists print message\n",
    "        else:\n",
    "            print('Invalid day! Must be any day of the week') #if day is incorrect display message\n",
    "    return task_add\n",
    "#tasks_dict = task_add\n",
    "#add_tasks(tasks_dict)\n",
    "tasks_dict = add_tasks(tasks_dict)\n",
    "print(tasks_dict) #Can uncomment to see tasks\n",
    "\n"
   ]
  },
  {
   "cell_type": "code",
   "execution_count": 360,
   "id": "f44ebba9-e973-4202-b55e-99a6df90af4c",
   "metadata": {},
   "outputs": [
    {
     "name": "stdout",
     "output_type": "stream",
     "text": [
      "{'Monday': {'Washing': False}, 'Tuesday': {'Mowing': False}, 'Wednesday': {'Painting': False}, 'Thursday': {'Cleaning': False}, 'Friday': {}, 'Saturday': {}, 'Sunday': {}}\n"
     ]
    }
   ],
   "source": [
    "print(tasks_dict)\n",
    "#del tasks_dict[\"Thursday\"][\"Wednesday\"]"
   ]
  },
  {
   "cell_type": "code",
   "execution_count": null,
   "id": "63e07dd5-480a-4674-9524-f727b4acc41d",
   "metadata": {},
   "outputs": [],
   "source": []
  },
  {
   "cell_type": "code",
   "execution_count": 317,
   "id": "fabba37c-5954-416f-8a3f-91d2b09d45b2",
   "metadata": {},
   "outputs": [
    {
     "name": "stdout",
     "output_type": "stream",
     "text": [
      "{}\n",
      "Welcome to the add habits manager. Let's add some habits. Type DONE when finished\n"
     ]
    },
    {
     "name": "stdin",
     "output_type": "stream",
     "text": [
      "What habit do you want to add? Remember type DONE if finished reading\n"
     ]
    },
    {
     "name": "stdout",
     "output_type": "stream",
     "text": [
      "Reading habit has been added!\n"
     ]
    },
    {
     "name": "stdin",
     "output_type": "stream",
     "text": [
      "What habit do you want to add? Remember type DONE if finished walking\n"
     ]
    },
    {
     "name": "stdout",
     "output_type": "stream",
     "text": [
      "Walking habit has been added!\n"
     ]
    },
    {
     "name": "stdin",
     "output_type": "stream",
     "text": [
      "What habit do you want to add? Remember type DONE if finished biking\n"
     ]
    },
    {
     "name": "stdout",
     "output_type": "stream",
     "text": [
      "Biking habit has been added!\n"
     ]
    },
    {
     "name": "stdin",
     "output_type": "stream",
     "text": [
      "What habit do you want to add? Remember type DONE if finished hiking\n"
     ]
    },
    {
     "name": "stdout",
     "output_type": "stream",
     "text": [
      "Hiking habit has been added!\n"
     ]
    },
    {
     "name": "stdin",
     "output_type": "stream",
     "text": [
      "What habit do you want to add? Remember type DONE if finished done\n"
     ]
    },
    {
     "name": "stdout",
     "output_type": "stream",
     "text": [
      "Finished adding habits.\n",
      "{'Reading': {'Monday': False, 'Tuesday': False, 'Wednesday': False, 'Thursday': False, 'Friday': False, 'Saturday': False, 'Sunday': False}, 'Walking': {'Monday': False, 'Tuesday': False, 'Wednesday': False, 'Thursday': False, 'Friday': False, 'Saturday': False, 'Sunday': False}, 'Biking': {'Monday': False, 'Tuesday': False, 'Wednesday': False, 'Thursday': False, 'Friday': False, 'Saturday': False, 'Sunday': False}, 'Hiking': {'Monday': False, 'Tuesday': False, 'Wednesday': False, 'Thursday': False, 'Friday': False, 'Saturday': False, 'Sunday': False}}\n"
     ]
    }
   ],
   "source": [
    "#Part 2b Function for adding habits to track habits dictionary\n",
    "#Setting habits completeness value to false for each day\n",
    "\n",
    "#Empty Dictionary to store habits.\n",
    "#habits_dict = {}\n",
    "\n",
    "def add_habits(habit_pass):\n",
    "    print(habit_pass)\n",
    "    print(\"Welcome to the add habits manager. Let's add some habits. Type DONE when finished\")          \n",
    "    while True: \n",
    "        new_habit = input('What habit do you want to add? Remember type DONE if finished')\n",
    "        new_habit = new_habit.strip().title()\n",
    "        if new_habit in list_day_week:\n",
    "            print('OOPS! You entered a day of the week instead of a habit. Please re-enter a habit!')\n",
    "            continue\n",
    "        if new_habit == \"Done\": #If user types done the operation is cancelled\n",
    "            print(\"Finished adding habits.\")\n",
    "            break # Exit the while loop\n",
    "        if new_habit not in habit_pass:\n",
    "            habit_pass[new_habit] = {day: False for day in list_day_week} #adding habit to the dictionary\n",
    "            \n",
    "            print(new_habit + ' habit has been added!') #message saying it's added\n",
    "        \n",
    "        else:\n",
    "            print('This habit has already been added. Try another habit please.') #if habit exists display message \n",
    "    return habit_pass\n",
    "habits_dict = add_habits(habits_dict)\n",
    "\n",
    "print(habits_dict) #Can uncomment to see list of habits"
   ]
  },
  {
   "cell_type": "code",
   "execution_count": 361,
   "id": "c6e28e57-8899-46ab-aa68-3d7c18a7016e",
   "metadata": {},
   "outputs": [
    {
     "name": "stdout",
     "output_type": "stream",
     "text": [
      "{}\n"
     ]
    }
   ],
   "source": [
    "print(habits_dict)\n",
    "#del habits_dict[\"Tuesday\"]"
   ]
  },
  {
   "cell_type": "code",
   "execution_count": 151,
   "id": "4c99db9a-7c06-49ba-bf51-19f19e2967fd",
   "metadata": {},
   "outputs": [
    {
     "name": "stdout",
     "output_type": "stream",
     "text": [
      "Here is a list of uncompleted tasks!\n",
      "Monday = {'Cleaning': True}\n",
      "Tuesday = {}\n",
      "Wednesday = {}\n",
      "Thursday = {}\n",
      "Friday = {}\n",
      "Saturday = {}\n",
      "Sunday = {}\n"
     ]
    },
    {
     "name": "stdin",
     "output_type": "stream",
     "text": [
      "Did you complete any tasks? Y/N \n"
     ]
    },
    {
     "name": "stdout",
     "output_type": "stream",
     "text": [
      "No tasks completed yet. You got this. Maybe tomorrow!\n"
     ]
    }
   ],
   "source": [
    "#Part 3\n",
    "#Function to show uncompleted tasks.\n",
    "#Ask for name of task completed and update dict. to reflect.(set completed value to true)\n",
    "# If all completed display message saying so.\n",
    "#Display message if task does not exist. Validate day input\n",
    "# If task completed day before current day, display a nice encouraging message\n",
    "\n",
    "def tasks_incompleted(tasks_incompl):\n",
    "    \n",
    "    print('Here is a list of uncompleted tasks!')\n",
    "    for key, value in tasks_incompl.items():\n",
    "        print(f\"{key} = {value}\") #Displaying the day\n",
    "    compl_yn = input('Did you complete any tasks? Y/N')\n",
    "    compl_yn = compl_yn.upper()\n",
    "    if compl_yn == 'Y':\n",
    "        \n",
    "        while True: #Loop to check for validity of day \n",
    "            day_compl = input('Which day did you complete the task on?').strip().title() #Asking for the day a task was completed on\n",
    "            if day_compl in list_day_week: #check that day is valid\n",
    "                print('Thank-You! Day is valid')\n",
    "                break\n",
    "            else:\n",
    "                print('Day is not correct! Please fix!') #Will loop back to ask for day if it was initially incorrect\n",
    "                \n",
    "        task_compl = input('Enter a task that you have completed.')\n",
    "        for key, value in tasks_incompl.items(): #For the day in dictionary and the task for that day update to true(completed)\n",
    "            if key == day_compl:\n",
    "                for value in tasks_incompl[key].values():\n",
    "                    \n",
    "                    tasks_incompl[day_compl][task_compl] = True\n",
    "        print(f\"Task {task_compl} on {day_compl} has been updated to completed! Yahoo\") #Message to inform task has been updated to completed\n",
    "            \n",
    "    else:\n",
    "        print('No tasks completed yet. You got this. Maybe tomorrow!') #Message to display if no tasks were completed.\n",
    "    return tasks_incompl\n",
    "#print(\"Okay! Let's see all uncompleted tasks and their day\")\n",
    "tasks_dict = tasks_incompleted(tasks_dict)\n"
   ]
  },
  {
   "cell_type": "code",
   "execution_count": 370,
   "id": "1dc69049-5281-4349-a7fe-dbe69bbe4158",
   "metadata": {},
   "outputs": [
    {
     "name": "stdout",
     "output_type": "stream",
     "text": [
      "{'Monday': {'Washing': False}, 'Tuesday': {'Mowing': False}, 'Wednesday': {'Painting': False}, 'Thursday': {'Cleaning': False}, 'Friday': {}, 'Saturday': {}, 'Sunday': {}}\n"
     ]
    }
   ],
   "source": [
    "print(tasks_dict)\n",
    "#del tasks_dict[\"Wednesday\"][\"sweeping\"]"
   ]
  },
  {
   "cell_type": "code",
   "execution_count": 368,
   "id": "2b7b728f-9a8d-4ea0-b411-b254aa9b4520",
   "metadata": {},
   "outputs": [
    {
     "name": "stdin",
     "output_type": "stream",
     "text": [
      "OOPS! No habits are being tracked yet. Want to add some? Yes/No yes\n"
     ]
    },
    {
     "name": "stdout",
     "output_type": "stream",
     "text": [
      "{}\n",
      "Welcome to the add habits manager. Let's add some habits. Type DONE when finished\n"
     ]
    },
    {
     "name": "stdin",
     "output_type": "stream",
     "text": [
      "What habit do you want to add? Remember type DONE if finished reading\n"
     ]
    },
    {
     "name": "stdout",
     "output_type": "stream",
     "text": [
      "Reading habit has been added!\n"
     ]
    },
    {
     "name": "stdin",
     "output_type": "stream",
     "text": [
      "What habit do you want to add? Remember type DONE if finished writing\n"
     ]
    },
    {
     "name": "stdout",
     "output_type": "stream",
     "text": [
      "Writing habit has been added!\n"
     ]
    },
    {
     "name": "stdin",
     "output_type": "stream",
     "text": [
      "What habit do you want to add? Remember type DONE if finished done\n"
     ]
    },
    {
     "name": "stdout",
     "output_type": "stream",
     "text": [
      "Finished adding habits.\n"
     ]
    }
   ],
   "source": [
    "#Function to mark habits as completed.\n",
    "def mark_habits_true(habit_pass):\n",
    "    if habit_pass is None or habit_pass == {}:                                #Check to see if habit dict has any habits.\n",
    "        empty_add = input(\"OOPS! No habits are being tracked yet. Want to add some? Yes/No\").strip().title()\n",
    "        if empty_add == \"Yes\":\n",
    "            add_habits(habit_pass)\n",
    "    else:\n",
    "        mark_hab_yn = input('Would you like to mark a habit as completed? Yes or No')\n",
    "        mark_hab_yn = mark_hab_yn.strip().title()\n",
    "        if mark_hab_yn == \"Yes\":\n",
    "    \n",
    "            while True:\n",
    "                day_hab_comp = input('What day is the habit on?').strip().title()\n",
    "                if day_hab_comp in list_day_week:\n",
    "                    print('Day is valid')\n",
    "                    break\n",
    "                else:\n",
    "                        print('Day is not correct! Please fix!') #Will loop back to ask for day if it was initially incorrect\n",
    "            while True:        \n",
    "                hab_comp = input('Which habit is completed?').strip().title()\n",
    "                #empty = return habit_pass\n",
    "                if hab_comp in habit_pass:\n",
    "                    #print(f\"{hab_comp} is being tracked\")\n",
    "                    for key, value in habit_pass.items(): #Loop through habits and mark completed(true) for specific day.\n",
    "                        if key == hab_comp:\n",
    "                            for value in habit_pass.values():\n",
    "                                habit_pass[hab_comp][day_hab_comp] = True\n",
    "                    print(f\"{hab_comp} on {day_hab_comp} has beeb updated to completed\")\n",
    "                    break\n",
    "                    \n",
    "                \n",
    "                else:\n",
    "                    print(f\"{hab_comp} does not exist. Try again\")\n",
    "                    continue\n",
    "    return habit_pass\n",
    "habits_dict = mark_habits_true(habits_dict)\n",
    "        "
   ]
  },
  {
   "cell_type": "code",
   "execution_count": 369,
   "id": "5855963e-eaaf-4caa-8143-fe8fd2e40a6d",
   "metadata": {},
   "outputs": [
    {
     "name": "stdout",
     "output_type": "stream",
     "text": [
      "{'Reading': {'Monday': False, 'Tuesday': False, 'Wednesday': False, 'Thursday': False, 'Friday': False, 'Saturday': False, 'Sunday': False}, 'Writing': {'Monday': False, 'Tuesday': False, 'Wednesday': False, 'Thursday': False, 'Friday': False, 'Saturday': False, 'Sunday': False}}\n"
     ]
    }
   ],
   "source": [
    "print(f\"{habits_dict}\")\n",
    "#del habits_dict[\"Reading\"]"
   ]
  },
  {
   "cell_type": "code",
   "execution_count": 311,
   "id": "89e652b2-d37d-410c-9352-e4fe30f0ece2",
   "metadata": {},
   "outputs": [
    {
     "name": "stdout",
     "output_type": "stream",
     "text": [
      "You can remove tasks if you want! Please provide the information below.\n"
     ]
    },
    {
     "name": "stdin",
     "output_type": "stream",
     "text": [
      "Which day is the task you want to remove on? tuesday\n"
     ]
    },
    {
     "name": "stdout",
     "output_type": "stream",
     "text": [
      "Day is valid\n",
      "There are no tasks for Tuesday.\n"
     ]
    },
    {
     "name": "stdin",
     "output_type": "stream",
     "text": [
      "Which day is the task you want to remove on? wednesday\n"
     ]
    },
    {
     "name": "stdout",
     "output_type": "stream",
     "text": [
      "Day is valid\n",
      "There are no tasks for Wednesday.\n"
     ]
    },
    {
     "name": "stdin",
     "output_type": "stream",
     "text": [
      "Which day is the task you want to remove on? monday\n"
     ]
    },
    {
     "name": "stdout",
     "output_type": "stream",
     "text": [
      "Day is valid\n",
      "\n",
      "Here is a list of tasks for Monday:\n",
      "1. Washing: False\n"
     ]
    },
    {
     "name": "stdin",
     "output_type": "stream",
     "text": [
      "Enter the number of the task you want to remove (or 'cancel' to abort):  1\n"
     ]
    },
    {
     "name": "stdout",
     "output_type": "stream",
     "text": [
      "Task 'Washing' removed from Monday.\n"
     ]
    }
   ],
   "source": [
    "def rm_tasks(task_rem):\n",
    "    print('You can remove tasks if you want! Please provide the information below.')\n",
    "    while True:\n",
    "        task_day = input('Which day is the task you want to remove on?').strip().title()\n",
    "        if task_day in list_day_week:\n",
    "            print('Day is valid')\n",
    "            #break\n",
    "        else:\n",
    "            print('Day is not correct! Please fix!') #Will loop back to ask for day if it was initially incorrect\n",
    "            continue\n",
    "    \n",
    "        current_day_tasks = task_rem.get(task_day, {})\n",
    "        if not current_day_tasks: # Check to see if the day is empty and display message if so.\n",
    "            print(f\"There are no tasks for {task_day}.\")\n",
    "            continue   #return # Exit the function if there are no tasks to remove\n",
    "        else:\n",
    "            print(f\"\\nHere is a list of tasks for {task_day}:\")\n",
    "            for i, (task_name, task_details) in enumerate(current_day_tasks.items(), 1): # Display tasks numbered in casd more than 1.\n",
    "                print(f\"{i}. {task_name}: {task_details}\")\n",
    "        break\n",
    "        \n",
    "    while True:\n",
    "        try:\n",
    "            to_rem = input(\"Enter the number of the task you want to remove (or 'cancel' to abort): \").strip().lower()\n",
    "            if to_rem == 'cancel':\n",
    "                print(\"Task removal cancelled.\")\n",
    "                return\n",
    "            task_num = int(to_rem)  # Convert task number to actual task key\n",
    "            if 1 <= task_num <= len(current_day_tasks):\n",
    "                task_keys = list(current_day_tasks.keys())\n",
    "                task_key_rem = task_keys[task_num - 1]\n",
    "                del current_day_tasks[task_key_rem] # Remove the task\n",
    "            print(f\"Task '{task_key_rem}' removed from {task_day}.\")\n",
    "            break\n",
    "        except ValueError:\n",
    "                print(\"Invalid input. Please enter a number or 'cancel'.\")\n",
    "    return task_rem\n",
    "tasks_dict = rm_tasks(tasks_dict)"
   ]
  },
  {
   "cell_type": "code",
   "execution_count": 312,
   "id": "35b9145c-3d7f-45b6-ad18-c94fc5bd0731",
   "metadata": {},
   "outputs": [
    {
     "name": "stdout",
     "output_type": "stream",
     "text": [
      "{'Monday': {}, 'Tuesday': {}, 'Wednesday': {}, 'Thursday': {}, 'Friday': {}, 'Saturday': {}, 'Sunday': {}}\n"
     ]
    }
   ],
   "source": [
    "print(tasks_dict)"
   ]
  },
  {
   "cell_type": "code",
   "execution_count": 344,
   "id": "3e4fb18a-636f-45d2-823e-d0f2b9651ed6",
   "metadata": {},
   "outputs": [
    {
     "name": "stdout",
     "output_type": "stream",
     "text": [
      "You can remove habits if you want! Please provide the information below.\n"
     ]
    },
    {
     "name": "stdin",
     "output_type": "stream",
     "text": [
      "Would you like to remove a habit? Yes or No yes\n"
     ]
    },
    {
     "name": "stdout",
     "output_type": "stream",
     "text": [
      "Here is a list of habits you are tracking.\n",
      "\n",
      "Walking = {'Wednesday': False, 'Thursday': False, 'Friday': False, 'Saturday': False, 'Sunday': False}\n",
      "Biking = {'Monday': False, 'Tuesday': False, 'Wednesday': False, 'Thursday': False, 'Friday': False, 'Saturday': False, 'Sunday': False}\n",
      "Hiking = {'Monday': False, 'Tuesday': False, 'Wednesday': False, 'Thursday': False, 'Friday': False, 'Saturday': False, 'Sunday': False}\n"
     ]
    },
    {
     "name": "stdin",
     "output_type": "stream",
     "text": [
      "Which habit do you want to remove? walking\n",
      "On which day do you want Walking to be removed from? wednesday\n"
     ]
    },
    {
     "name": "stdout",
     "output_type": "stream",
     "text": [
      "Day is valid\n",
      "Walking has been removed from the habit tracker on Wednesday.\n"
     ]
    }
   ],
   "source": [
    "def rm_habits(pass_habit):\n",
    "    print('You can remove habits if you want! Please provide the information below.')\n",
    "    while True:\n",
    "        if pass_habit is None:                                  #Check to see if habit dict has any habits.\n",
    "            print(\"OOPS! No habits are being tracked yet.\")\n",
    "        else:\n",
    "            habit_rem_yn = input('Would you like to remove a habit? Yes or No').strip().title()\n",
    "        if habit_rem_yn == \"Yes\":\n",
    "            print('Here is a list of habits you are tracking.\\n')\n",
    "            for key, value in pass_habit.items():\n",
    "               print(f\"{key} = {value}\")\n",
    "            habit_rem = input('Which habit do you want to remove?').strip().title()\n",
    "            while True:\n",
    "                habit_day_rem = input(f\"On which day do you want {habit_rem} to be removed from?\").strip().title()\n",
    "                if habit_day_rem in list_day_week:\n",
    "                    print('Day is valid')\n",
    "                else:\n",
    "                    print(habit_day_rem)\n",
    "                    print('Day not correct. Please fix')\n",
    "                break\n",
    "                    \n",
    "            if habit_rem in pass_habit:\n",
    "                del pass_habit[habit_rem][habit_day_rem]\n",
    "                print(f\"{habit_rem} has been removed from the habit tracker on {habit_day_rem}.\")\n",
    "        else:\n",
    "            print('Removing habit is cancelled')\n",
    "            return\n",
    "        break\n",
    "rm_habits(habits_dict)\n",
    "    "
   ]
  },
  {
   "cell_type": "code",
   "execution_count": 345,
   "id": "bdeb4bf0-739c-414b-a218-36206e555054",
   "metadata": {},
   "outputs": [
    {
     "name": "stdout",
     "output_type": "stream",
     "text": [
      "{'Walking': {'Thursday': False, 'Friday': False, 'Saturday': False, 'Sunday': False}, 'Biking': {'Monday': False, 'Tuesday': False, 'Wednesday': False, 'Thursday': False, 'Friday': False, 'Saturday': False, 'Sunday': False}, 'Hiking': {'Monday': False, 'Tuesday': False, 'Wednesday': False, 'Thursday': False, 'Friday': False, 'Saturday': False, 'Sunday': False}}\n"
     ]
    }
   ],
   "source": [
    "print(habits_dict)"
   ]
  },
  {
   "cell_type": "code",
   "execution_count": null,
   "id": "fcf0c490-603d-4861-8a7e-706fe88b0565",
   "metadata": {},
   "outputs": [],
   "source": []
  }
 ],
 "metadata": {
  "kernelspec": {
   "display_name": "Python 3 (ipykernel)",
   "language": "python",
   "name": "python3"
  },
  "language_info": {
   "codemirror_mode": {
    "name": "ipython",
    "version": 3
   },
   "file_extension": ".py",
   "mimetype": "text/x-python",
   "name": "python",
   "nbconvert_exporter": "python",
   "pygments_lexer": "ipython3",
   "version": "3.12.7"
  }
 },
 "nbformat": 4,
 "nbformat_minor": 5
}
