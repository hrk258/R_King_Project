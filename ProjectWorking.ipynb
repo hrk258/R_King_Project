{
 "cells": [
  {
   "cell_type": "code",
   "execution_count": 2,
   "id": "3285d59d-b222-4577-bf80-646f5e38c4af",
   "metadata": {
    "ExecuteTime": {
     "end_time": "2025-06-05T00:59:10.060086Z",
     "start_time": "2025-06-05T00:59:10.053755Z"
    }
   },
   "outputs": [],
   "source": [
    "'''\n",
    "Not completely finished. Redone parts 1-3. Part 4 is done. Part 5 not finished...YET\n",
    "Appreciate all feedback.\n",
    "'''\n",
    "\n",
    "#Part 1\n",
    "\n",
    "#Days of week list\n",
    "\n",
    "import datetime #To be used for certain date coding\n",
    "\n",
    "list_day_week = [\"Monday\",\"Tuesday\",\"Wednesday\",\"Thursday\",\"Friday\",\"Saturday\",\"Sunday\"]\n",
    "\n",
    "#Dictionary to track tasks for the week.\n",
    "\n",
    "tasks_dict = {day: {} for day in list_day_week}  #Looks like\n",
    "                                                  #      Monday: {Clean   false}\n",
    "                                                   #     Tuesday {Painting  False}\n",
    "                                                                                    \n",
    "\n",
    "#Empty Dictionary to store habits.\n",
    "habits_dict = {}"
   ]
  },
  {
   "cell_type": "code",
   "execution_count": 64,
   "id": "2b38e234-3c03-44dc-8a96-33003896da39",
   "metadata": {},
   "outputs": [],
   "source": [
    "from rich.console import Console\n",
    "from rich import print\n",
    "console = Console()"
   ]
  },
  {
   "cell_type": "code",
   "execution_count": 50,
   "id": "ddce03cd-024e-40c4-a223-8b95d928c0ed",
   "metadata": {},
   "outputs": [
    {
     "data": {
      "text/html": [
       "<pre style=\"white-space:pre;overflow-x:auto;line-height:normal;font-family:Menlo,'DejaVu Sans Mono',consolas,'Courier New',monospace\"><span style=\"font-weight: bold\">This is bold text using rich!</span>\n",
       "</pre>\n"
      ],
      "text/plain": [
       "\u001b[1mThis is bold text using rich!\u001b[0m\n"
      ]
     },
     "metadata": {},
     "output_type": "display_data"
    }
   ],
   "source": [
    "console.print(\"[red]This is bold text using rich![/red]\")"
   ]
  },
  {
   "cell_type": "code",
   "execution_count": 76,
   "id": "ce460696-9fb3-4772-b758-98a6bbb7c734",
   "metadata": {
    "ExecuteTime": {
     "end_time": "2025-06-05T01:00:05.399553Z",
     "start_time": "2025-06-05T00:59:10.099803Z"
    },
    "editable": true,
    "slideshow": {
     "slide_type": ""
    },
    "tags": []
   },
   "outputs": [
    {
     "data": {
      "text/html": [
       "<pre style=\"white-space:pre;overflow-x:auto;line-height:normal;font-family:Menlo,'DejaVu Sans Mono',consolas,'Courier New',monospace\"><span style=\"color: #000080; text-decoration-color: #000080; font-weight: bold\">Welcome to the add task manager. Please provide the information below. Type DONE when finished</span>\n",
       "</pre>\n"
      ],
      "text/plain": [
       "\u001b[1;34mWelcome to the add task manager. Please provide the information below. Type DONE when finished\u001b[0m\n"
      ]
     },
     "metadata": {},
     "output_type": "display_data"
    },
    {
     "data": {
      "text/html": [
       "<pre style=\"white-space:pre;overflow-x:auto;line-height:normal;font-family:Menlo,'DejaVu Sans Mono',consolas,'Courier New',monospace\">Which day of the week do you want to add a task to? Type <span style=\"font-weight: bold\">DONE</span> if finished </pre>\n"
      ],
      "text/plain": [
       "Which day of the week do you want to add a task to? Type \u001b[1mDONE\u001b[0m if finished "
      ]
     },
     "metadata": {},
     "output_type": "display_data"
    },
    {
     "name": "stdin",
     "output_type": "stream",
     "text": [
      " monday\n",
      "What is the task? wash floors\n"
     ]
    },
    {
     "data": {
      "text/html": [
       "<pre style=\"white-space:pre;overflow-x:auto;line-height:normal;font-family:Menlo,'DejaVu Sans Mono',consolas,'Courier New',monospace\">Alright! Wash Floors has been added to Monday\n",
       "</pre>\n"
      ],
      "text/plain": [
       "Alright! Wash Floors has been added to Monday\n"
      ]
     },
     "metadata": {},
     "output_type": "display_data"
    },
    {
     "data": {
      "text/html": [
       "<pre style=\"white-space:pre;overflow-x:auto;line-height:normal;font-family:Menlo,'DejaVu Sans Mono',consolas,'Courier New',monospace\">Which day of the week do you want to add a task to? Type <span style=\"font-weight: bold\">DONE</span> if finished </pre>\n"
      ],
      "text/plain": [
       "Which day of the week do you want to add a task to? Type \u001b[1mDONE\u001b[0m if finished "
      ]
     },
     "metadata": {},
     "output_type": "display_data"
    },
    {
     "name": "stdin",
     "output_type": "stream",
     "text": [
      " done\n"
     ]
    },
    {
     "data": {
      "text/html": [
       "<pre style=\"white-space:pre;overflow-x:auto;line-height:normal;font-family:Menlo,'DejaVu Sans Mono',consolas,'Courier New',monospace\">Finished adding tasks.\n",
       "</pre>\n"
      ],
      "text/plain": [
       "Finished adding tasks.\n"
      ]
     },
     "metadata": {},
     "output_type": "display_data"
    }
   ],
   "source": [
    "\n",
    "#PART 2\n",
    "#Defining a function for user to add tasks\n",
    "def add_tasks(task_add):\n",
    "    \n",
    "    print('[bold blue]Welcome to the add task manager. Please provide the information below. Type DONE when finished[/bold blue]')\n",
    "    while True:\n",
    "        day = console.input('Which day of the week do you want to add a task to? Type [bold]DONE[/bold] if finished ')\n",
    "        day = day.strip().title()\n",
    "        if day == \"Done\":\n",
    "            print(\"Finished adding tasks.\") # Cancel the operation if done is entered\n",
    "            break # Exit the while loop\n",
    "        if day in list_day_week: #check that day is valid\n",
    "            #print('Thank-You! Day is valid')\n",
    "            new_task = input('What is the task?')\n",
    "            new_task = new_task.title()\n",
    "\n",
    "            #Adding task to the dictionary\n",
    "            if new_task not in task_add[day]:\n",
    "                task_add[day][new_task] = False #add new_task as a key\n",
    "                #task_add[day][\"Completed\"] = []\n",
    "                #task_add[day][\"tasks\"] = new_task\n",
    "                #if new_task not in task_add[day][\"tasks\"]:\n",
    "                 #   task_add[day][\"tasks\"] = new_task\n",
    "                  #  task_add[day][\"completed\"]= False\n",
    "                print(f'Alright! {new_task} has been added to {day}')\n",
    "            else:\n",
    "                print(\"[bold red]Task already exists![/bold red]\")#If task exists print message\n",
    "        else:\n",
    "            print('[bold]WARNING! [/bold]Invalid day! Must be any day of the week') #if day is incorrect display message\n",
    "    #print(\"Function finished without printing.\")\n",
    "    return task_add;\n",
    "    \n",
    "tasks_dict = add_tasks(tasks_dict)\n",
    "\n",
    "\n",
    "\n"
   ]
  },
  {
   "cell_type": "code",
   "execution_count": 15,
   "id": "f44ebba9-e973-4202-b55e-99a6df90af4c",
   "metadata": {},
   "outputs": [
    {
     "name": "stdout",
     "output_type": "stream",
     "text": [
      "{'Monday': {'Painting': False, 'Reading': True}, 'Tuesday': {'Washing': False}, 'Wednesday': {'Cutting': False}, 'Thursday': {'Trimming': False}, 'Friday': {'Mowing': False}, 'Saturday': {'Clean Garage': False}, 'Sunday': {'Walk Dog': False}}\n"
     ]
    }
   ],
   "source": [
    "print(tasks_dict)\n",
    "#del tasks_dict[\"Thursday\"][\"Wednesday\"]"
   ]
  },
  {
   "cell_type": "code",
   "execution_count": null,
   "id": "63e07dd5-480a-4674-9524-f727b4acc41d",
   "metadata": {},
   "outputs": [],
   "source": []
  },
  {
   "cell_type": "code",
   "execution_count": 16,
   "id": "fabba37c-5954-416f-8a3f-91d2b09d45b2",
   "metadata": {},
   "outputs": [
    {
     "name": "stdout",
     "output_type": "stream",
     "text": [
      "{'Reading': {'Monday': False, 'Tuesday': False, 'Wednesday': False, 'Thursday': False, 'Friday': False, 'Saturday': False, 'Sunday': False}, 'Walking': {'Monday': False, 'Tuesday': False, 'Wednesday': False, 'Thursday': False, 'Friday': False, 'Saturday': False, 'Sunday': False}, 'Biking': {'Monday': False, 'Tuesday': False, 'Wednesday': False, 'Thursday': False, 'Friday': False, 'Saturday': False, 'Sunday': False}, 'Drink Water': {'Monday': False, 'Tuesday': False, 'Wednesday': False, 'Thursday': False, 'Friday': False, 'Saturday': False, 'Sunday': False}, 'Hiking': {'Monday': False, 'Tuesday': False, 'Wednesday': False, 'Thursday': False, 'Friday': False, 'Saturday': False, 'Sunday': False}, 'Running': {'Monday': False, 'Tuesday': False, 'Wednesday': False, 'Thursday': False, 'Friday': False, 'Saturday': False, 'Sunday': False}}\n",
      "Welcome to the add habits manager. Let's add some habits. Type DONE when finished\n"
     ]
    },
    {
     "name": "stdin",
     "output_type": "stream",
     "text": [
      "What habit do you want to add? Remember type DONE if finished done\n"
     ]
    },
    {
     "name": "stdout",
     "output_type": "stream",
     "text": [
      "Finished adding habits.\n"
     ]
    }
   ],
   "source": [
    "#Part 2b Function for adding habits to track habits dictionary\n",
    "#Setting habits completeness value to false for each day\n",
    "\n",
    "#Empty Dictionary to store habits.\n",
    "#habits_dict = {}\n",
    "\n",
    "def add_habits(habit_pass):\n",
    "    print(habit_pass)\n",
    "    print(\"Welcome to the add habits manager. Let's add some habits. Type DONE when finished\")          \n",
    "    while True: \n",
    "        new_habit = input('What habit do you want to add? Remember type DONE if finished')\n",
    "        new_habit = new_habit.strip().title()\n",
    "        if new_habit in list_day_week:\n",
    "            print('OOPS! You entered a day of the week instead of a habit. Please re-enter a habit!')\n",
    "            continue\n",
    "        if new_habit == \"Done\": #If user types done the operation is cancelled\n",
    "            print(\"Finished adding habits.\")\n",
    "            break # Exit the while loop\n",
    "        if new_habit not in habit_pass:\n",
    "            habit_pass[new_habit] = {day: False for day in list_day_week} #adding habit to the dictionary\n",
    "            \n",
    "            print(new_habit + ' habit has been added!') #message saying it's added\n",
    "        \n",
    "        else:\n",
    "            print('This habit has already been added. Try another habit please.') #if habit exists display message \n",
    "    return habit_pass\n",
    "habits_dict = add_habits(habits_dict)\n",
    "\n",
    "#print(habits_dict) #Can uncomment to see list of habits"
   ]
  },
  {
   "cell_type": "code",
   "execution_count": 75,
   "id": "c6e28e57-8899-46ab-aa68-3d7c18a7016e",
   "metadata": {},
   "outputs": [
    {
     "data": {
      "text/html": [
       "<pre style=\"white-space:pre;overflow-x:auto;line-height:normal;font-family:Menlo,'DejaVu Sans Mono',consolas,'Courier New',monospace\"><span style=\"font-weight: bold\">{</span>\n",
       "    <span style=\"color: #008000; text-decoration-color: #008000\">'Reading'</span>: <span style=\"font-weight: bold\">{</span>\n",
       "        <span style=\"color: #008000; text-decoration-color: #008000\">'Monday'</span>: <span style=\"color: #ff0000; text-decoration-color: #ff0000; font-style: italic\">False</span>,\n",
       "        <span style=\"color: #008000; text-decoration-color: #008000\">'Tuesday'</span>: <span style=\"color: #ff0000; text-decoration-color: #ff0000; font-style: italic\">False</span>,\n",
       "        <span style=\"color: #008000; text-decoration-color: #008000\">'Wednesday'</span>: <span style=\"color: #ff0000; text-decoration-color: #ff0000; font-style: italic\">False</span>,\n",
       "        <span style=\"color: #008000; text-decoration-color: #008000\">'Thursday'</span>: <span style=\"color: #ff0000; text-decoration-color: #ff0000; font-style: italic\">False</span>,\n",
       "        <span style=\"color: #008000; text-decoration-color: #008000\">'Friday'</span>: <span style=\"color: #ff0000; text-decoration-color: #ff0000; font-style: italic\">False</span>,\n",
       "        <span style=\"color: #008000; text-decoration-color: #008000\">'Saturday'</span>: <span style=\"color: #ff0000; text-decoration-color: #ff0000; font-style: italic\">False</span>,\n",
       "        <span style=\"color: #008000; text-decoration-color: #008000\">'Sunday'</span>: <span style=\"color: #ff0000; text-decoration-color: #ff0000; font-style: italic\">False</span>\n",
       "    <span style=\"font-weight: bold\">}</span>,\n",
       "    <span style=\"color: #008000; text-decoration-color: #008000\">'Walking'</span>: <span style=\"font-weight: bold\">{</span>\n",
       "        <span style=\"color: #008000; text-decoration-color: #008000\">'Monday'</span>: <span style=\"color: #ff0000; text-decoration-color: #ff0000; font-style: italic\">False</span>,\n",
       "        <span style=\"color: #008000; text-decoration-color: #008000\">'Tuesday'</span>: <span style=\"color: #ff0000; text-decoration-color: #ff0000; font-style: italic\">False</span>,\n",
       "        <span style=\"color: #008000; text-decoration-color: #008000\">'Wednesday'</span>: <span style=\"color: #ff0000; text-decoration-color: #ff0000; font-style: italic\">False</span>,\n",
       "        <span style=\"color: #008000; text-decoration-color: #008000\">'Thursday'</span>: <span style=\"color: #ff0000; text-decoration-color: #ff0000; font-style: italic\">False</span>,\n",
       "        <span style=\"color: #008000; text-decoration-color: #008000\">'Friday'</span>: <span style=\"color: #ff0000; text-decoration-color: #ff0000; font-style: italic\">False</span>,\n",
       "        <span style=\"color: #008000; text-decoration-color: #008000\">'Saturday'</span>: <span style=\"color: #ff0000; text-decoration-color: #ff0000; font-style: italic\">False</span>,\n",
       "        <span style=\"color: #008000; text-decoration-color: #008000\">'Sunday'</span>: <span style=\"color: #ff0000; text-decoration-color: #ff0000; font-style: italic\">False</span>\n",
       "    <span style=\"font-weight: bold\">}</span>,\n",
       "    <span style=\"color: #008000; text-decoration-color: #008000\">'Biking'</span>: <span style=\"font-weight: bold\">{</span>\n",
       "        <span style=\"color: #008000; text-decoration-color: #008000\">'Monday'</span>: <span style=\"color: #ff0000; text-decoration-color: #ff0000; font-style: italic\">False</span>,\n",
       "        <span style=\"color: #008000; text-decoration-color: #008000\">'Tuesday'</span>: <span style=\"color: #ff0000; text-decoration-color: #ff0000; font-style: italic\">False</span>,\n",
       "        <span style=\"color: #008000; text-decoration-color: #008000\">'Wednesday'</span>: <span style=\"color: #ff0000; text-decoration-color: #ff0000; font-style: italic\">False</span>,\n",
       "        <span style=\"color: #008000; text-decoration-color: #008000\">'Thursday'</span>: <span style=\"color: #00ff00; text-decoration-color: #00ff00; font-style: italic\">True</span>,\n",
       "        <span style=\"color: #008000; text-decoration-color: #008000\">'Friday'</span>: <span style=\"color: #ff0000; text-decoration-color: #ff0000; font-style: italic\">False</span>,\n",
       "        <span style=\"color: #008000; text-decoration-color: #008000\">'Saturday'</span>: <span style=\"color: #ff0000; text-decoration-color: #ff0000; font-style: italic\">False</span>,\n",
       "        <span style=\"color: #008000; text-decoration-color: #008000\">'Sunday'</span>: <span style=\"color: #ff0000; text-decoration-color: #ff0000; font-style: italic\">False</span>\n",
       "    <span style=\"font-weight: bold\">}</span>,\n",
       "    <span style=\"color: #008000; text-decoration-color: #008000\">'Drink Water'</span>: <span style=\"font-weight: bold\">{</span>\n",
       "        <span style=\"color: #008000; text-decoration-color: #008000\">'Monday'</span>: <span style=\"color: #ff0000; text-decoration-color: #ff0000; font-style: italic\">False</span>,\n",
       "        <span style=\"color: #008000; text-decoration-color: #008000\">'Tuesday'</span>: <span style=\"color: #ff0000; text-decoration-color: #ff0000; font-style: italic\">False</span>,\n",
       "        <span style=\"color: #008000; text-decoration-color: #008000\">'Wednesday'</span>: <span style=\"color: #ff0000; text-decoration-color: #ff0000; font-style: italic\">False</span>,\n",
       "        <span style=\"color: #008000; text-decoration-color: #008000\">'Thursday'</span>: <span style=\"color: #ff0000; text-decoration-color: #ff0000; font-style: italic\">False</span>,\n",
       "        <span style=\"color: #008000; text-decoration-color: #008000\">'Friday'</span>: <span style=\"color: #ff0000; text-decoration-color: #ff0000; font-style: italic\">False</span>,\n",
       "        <span style=\"color: #008000; text-decoration-color: #008000\">'Saturday'</span>: <span style=\"color: #ff0000; text-decoration-color: #ff0000; font-style: italic\">False</span>,\n",
       "        <span style=\"color: #008000; text-decoration-color: #008000\">'Sunday'</span>: <span style=\"color: #ff0000; text-decoration-color: #ff0000; font-style: italic\">False</span>\n",
       "    <span style=\"font-weight: bold\">}</span>,\n",
       "    <span style=\"color: #008000; text-decoration-color: #008000\">'Hiking'</span>: <span style=\"font-weight: bold\">{</span>\n",
       "        <span style=\"color: #008000; text-decoration-color: #008000\">'Monday'</span>: <span style=\"color: #ff0000; text-decoration-color: #ff0000; font-style: italic\">False</span>,\n",
       "        <span style=\"color: #008000; text-decoration-color: #008000\">'Tuesday'</span>: <span style=\"color: #ff0000; text-decoration-color: #ff0000; font-style: italic\">False</span>,\n",
       "        <span style=\"color: #008000; text-decoration-color: #008000\">'Wednesday'</span>: <span style=\"color: #ff0000; text-decoration-color: #ff0000; font-style: italic\">False</span>,\n",
       "        <span style=\"color: #008000; text-decoration-color: #008000\">'Thursday'</span>: <span style=\"color: #ff0000; text-decoration-color: #ff0000; font-style: italic\">False</span>,\n",
       "        <span style=\"color: #008000; text-decoration-color: #008000\">'Friday'</span>: <span style=\"color: #ff0000; text-decoration-color: #ff0000; font-style: italic\">False</span>,\n",
       "        <span style=\"color: #008000; text-decoration-color: #008000\">'Saturday'</span>: <span style=\"color: #ff0000; text-decoration-color: #ff0000; font-style: italic\">False</span>,\n",
       "        <span style=\"color: #008000; text-decoration-color: #008000\">'Sunday'</span>: <span style=\"color: #ff0000; text-decoration-color: #ff0000; font-style: italic\">False</span>\n",
       "    <span style=\"font-weight: bold\">}</span>,\n",
       "    <span style=\"color: #008000; text-decoration-color: #008000\">'Running'</span>: <span style=\"font-weight: bold\">{</span>\n",
       "        <span style=\"color: #008000; text-decoration-color: #008000\">'Monday'</span>: <span style=\"color: #ff0000; text-decoration-color: #ff0000; font-style: italic\">False</span>,\n",
       "        <span style=\"color: #008000; text-decoration-color: #008000\">'Tuesday'</span>: <span style=\"color: #ff0000; text-decoration-color: #ff0000; font-style: italic\">False</span>,\n",
       "        <span style=\"color: #008000; text-decoration-color: #008000\">'Wednesday'</span>: <span style=\"color: #ff0000; text-decoration-color: #ff0000; font-style: italic\">False</span>,\n",
       "        <span style=\"color: #008000; text-decoration-color: #008000\">'Thursday'</span>: <span style=\"color: #ff0000; text-decoration-color: #ff0000; font-style: italic\">False</span>,\n",
       "        <span style=\"color: #008000; text-decoration-color: #008000\">'Friday'</span>: <span style=\"color: #ff0000; text-decoration-color: #ff0000; font-style: italic\">False</span>,\n",
       "        <span style=\"color: #008000; text-decoration-color: #008000\">'Saturday'</span>: <span style=\"color: #ff0000; text-decoration-color: #ff0000; font-style: italic\">False</span>,\n",
       "        <span style=\"color: #008000; text-decoration-color: #008000\">'Sunday'</span>: <span style=\"color: #ff0000; text-decoration-color: #ff0000; font-style: italic\">False</span>\n",
       "    <span style=\"font-weight: bold\">}</span>\n",
       "<span style=\"font-weight: bold\">}</span>\n",
       "</pre>\n"
      ],
      "text/plain": [
       "\u001b[1m{\u001b[0m\n",
       "    \u001b[32m'Reading'\u001b[0m: \u001b[1m{\u001b[0m\n",
       "        \u001b[32m'Monday'\u001b[0m: \u001b[3;91mFalse\u001b[0m,\n",
       "        \u001b[32m'Tuesday'\u001b[0m: \u001b[3;91mFalse\u001b[0m,\n",
       "        \u001b[32m'Wednesday'\u001b[0m: \u001b[3;91mFalse\u001b[0m,\n",
       "        \u001b[32m'Thursday'\u001b[0m: \u001b[3;91mFalse\u001b[0m,\n",
       "        \u001b[32m'Friday'\u001b[0m: \u001b[3;91mFalse\u001b[0m,\n",
       "        \u001b[32m'Saturday'\u001b[0m: \u001b[3;91mFalse\u001b[0m,\n",
       "        \u001b[32m'Sunday'\u001b[0m: \u001b[3;91mFalse\u001b[0m\n",
       "    \u001b[1m}\u001b[0m,\n",
       "    \u001b[32m'Walking'\u001b[0m: \u001b[1m{\u001b[0m\n",
       "        \u001b[32m'Monday'\u001b[0m: \u001b[3;91mFalse\u001b[0m,\n",
       "        \u001b[32m'Tuesday'\u001b[0m: \u001b[3;91mFalse\u001b[0m,\n",
       "        \u001b[32m'Wednesday'\u001b[0m: \u001b[3;91mFalse\u001b[0m,\n",
       "        \u001b[32m'Thursday'\u001b[0m: \u001b[3;91mFalse\u001b[0m,\n",
       "        \u001b[32m'Friday'\u001b[0m: \u001b[3;91mFalse\u001b[0m,\n",
       "        \u001b[32m'Saturday'\u001b[0m: \u001b[3;91mFalse\u001b[0m,\n",
       "        \u001b[32m'Sunday'\u001b[0m: \u001b[3;91mFalse\u001b[0m\n",
       "    \u001b[1m}\u001b[0m,\n",
       "    \u001b[32m'Biking'\u001b[0m: \u001b[1m{\u001b[0m\n",
       "        \u001b[32m'Monday'\u001b[0m: \u001b[3;91mFalse\u001b[0m,\n",
       "        \u001b[32m'Tuesday'\u001b[0m: \u001b[3;91mFalse\u001b[0m,\n",
       "        \u001b[32m'Wednesday'\u001b[0m: \u001b[3;91mFalse\u001b[0m,\n",
       "        \u001b[32m'Thursday'\u001b[0m: \u001b[3;92mTrue\u001b[0m,\n",
       "        \u001b[32m'Friday'\u001b[0m: \u001b[3;91mFalse\u001b[0m,\n",
       "        \u001b[32m'Saturday'\u001b[0m: \u001b[3;91mFalse\u001b[0m,\n",
       "        \u001b[32m'Sunday'\u001b[0m: \u001b[3;91mFalse\u001b[0m\n",
       "    \u001b[1m}\u001b[0m,\n",
       "    \u001b[32m'Drink Water'\u001b[0m: \u001b[1m{\u001b[0m\n",
       "        \u001b[32m'Monday'\u001b[0m: \u001b[3;91mFalse\u001b[0m,\n",
       "        \u001b[32m'Tuesday'\u001b[0m: \u001b[3;91mFalse\u001b[0m,\n",
       "        \u001b[32m'Wednesday'\u001b[0m: \u001b[3;91mFalse\u001b[0m,\n",
       "        \u001b[32m'Thursday'\u001b[0m: \u001b[3;91mFalse\u001b[0m,\n",
       "        \u001b[32m'Friday'\u001b[0m: \u001b[3;91mFalse\u001b[0m,\n",
       "        \u001b[32m'Saturday'\u001b[0m: \u001b[3;91mFalse\u001b[0m,\n",
       "        \u001b[32m'Sunday'\u001b[0m: \u001b[3;91mFalse\u001b[0m\n",
       "    \u001b[1m}\u001b[0m,\n",
       "    \u001b[32m'Hiking'\u001b[0m: \u001b[1m{\u001b[0m\n",
       "        \u001b[32m'Monday'\u001b[0m: \u001b[3;91mFalse\u001b[0m,\n",
       "        \u001b[32m'Tuesday'\u001b[0m: \u001b[3;91mFalse\u001b[0m,\n",
       "        \u001b[32m'Wednesday'\u001b[0m: \u001b[3;91mFalse\u001b[0m,\n",
       "        \u001b[32m'Thursday'\u001b[0m: \u001b[3;91mFalse\u001b[0m,\n",
       "        \u001b[32m'Friday'\u001b[0m: \u001b[3;91mFalse\u001b[0m,\n",
       "        \u001b[32m'Saturday'\u001b[0m: \u001b[3;91mFalse\u001b[0m,\n",
       "        \u001b[32m'Sunday'\u001b[0m: \u001b[3;91mFalse\u001b[0m\n",
       "    \u001b[1m}\u001b[0m,\n",
       "    \u001b[32m'Running'\u001b[0m: \u001b[1m{\u001b[0m\n",
       "        \u001b[32m'Monday'\u001b[0m: \u001b[3;91mFalse\u001b[0m,\n",
       "        \u001b[32m'Tuesday'\u001b[0m: \u001b[3;91mFalse\u001b[0m,\n",
       "        \u001b[32m'Wednesday'\u001b[0m: \u001b[3;91mFalse\u001b[0m,\n",
       "        \u001b[32m'Thursday'\u001b[0m: \u001b[3;91mFalse\u001b[0m,\n",
       "        \u001b[32m'Friday'\u001b[0m: \u001b[3;91mFalse\u001b[0m,\n",
       "        \u001b[32m'Saturday'\u001b[0m: \u001b[3;91mFalse\u001b[0m,\n",
       "        \u001b[32m'Sunday'\u001b[0m: \u001b[3;91mFalse\u001b[0m\n",
       "    \u001b[1m}\u001b[0m\n",
       "\u001b[1m}\u001b[0m\n"
      ]
     },
     "metadata": {},
     "output_type": "display_data"
    }
   ],
   "source": [
    "print(habits_dict)\n",
    "#del habits_dict[\"Tuesday\"]"
   ]
  },
  {
   "cell_type": "code",
   "execution_count": 17,
   "id": "4c99db9a-7c06-49ba-bf51-19f19e2967fd",
   "metadata": {},
   "outputs": [
    {
     "name": "stdout",
     "output_type": "stream",
     "text": [
      "Here is a list of uncompleted tasks!\n",
      "Monday = {'Painting': False, 'Reading': True}\n",
      "Tuesday = {'Washing': False}\n",
      "Wednesday = {'Cutting': False}\n",
      "Thursday = {'Trimming': False}\n",
      "Friday = {'Mowing': False}\n",
      "Saturday = {'Clean Garage': False}\n",
      "Sunday = {'Walk Dog': False}\n"
     ]
    },
    {
     "name": "stdin",
     "output_type": "stream",
     "text": [
      "Did you complete any tasks? Y/N n\n"
     ]
    },
    {
     "name": "stdout",
     "output_type": "stream",
     "text": [
      "No tasks completed yet. You got this. Maybe tomorrow!\n"
     ]
    }
   ],
   "source": [
    "#Part 3\n",
    "#Function to show uncompleted tasks.\n",
    "#Ask for name of task completed and update dict. to reflect.(set completed value to true)\n",
    "# If all completed display message saying so.\n",
    "#Display message if task does not exist. Validate day input\n",
    "# If task completed day before current day, display a nice encouraging message\n",
    "\n",
    "def tasks_incompleted(tasks_incompl):\n",
    "    \n",
    "    print('Here is a list of uncompleted tasks!')\n",
    "    for key, value in tasks_incompl.items():\n",
    "        print(f\"{key} = {value}\") #Displaying the day\n",
    "    compl_yn = input('Did you complete any tasks? Y/N')\n",
    "    compl_yn = compl_yn.upper()\n",
    "    if compl_yn == 'Y':\n",
    "        \n",
    "        while True: #Loop to check for validity of day \n",
    "            day_compl = input('Which day did you complete the task on?').strip().title() #Asking for the day a task was completed on\n",
    "            if day_compl in list_day_week: #check that day is valid\n",
    "                print('Thank-You! Day is valid')\n",
    "                break\n",
    "            else:\n",
    "                print('Day is not correct! Please fix!') #Will loop back to ask for day if it was initially incorrect\n",
    "                \n",
    "        task_compl = input('Enter a task that you have completed.').strip().title()\n",
    "        for key, value in tasks_incompl.items(): #For the day in dictionary and the task for that day update to true(completed)\n",
    "            if key == day_compl:\n",
    "                for value in tasks_incompl[key].values():\n",
    "                    \n",
    "                    tasks_incompl[day_compl][task_compl] = True\n",
    "        print(f\"Task {task_compl} on {day_compl} has been updated to completed! Yahoo\") #Message to inform task has been updated to completed\n",
    "            \n",
    "    else:\n",
    "        print('No tasks completed yet. You got this. Maybe tomorrow!') #Message to display if no tasks were completed.\n",
    "    return tasks_incompl\n",
    "#print(\"Okay! Let's see all uncompleted tasks and their day\")\n",
    "tasks_dict = tasks_incompleted(tasks_dict)\n"
   ]
  },
  {
   "cell_type": "code",
   "execution_count": 12,
   "id": "1dc69049-5281-4349-a7fe-dbe69bbe4158",
   "metadata": {},
   "outputs": [
    {
     "name": "stdout",
     "output_type": "stream",
     "text": [
      "{'Monday': {'Painting': False, 'Reading': True}, 'Tuesday': {'Washing': False}, 'Wednesday': {'Cutting': False}, 'Thursday': {'Trimming': False}, 'Friday': {'Mowing': False}, 'Saturday': {'Clean Garage': False}, 'Sunday': {'Walk Dog': False}}\n"
     ]
    }
   ],
   "source": [
    "print(tasks_dict)\n",
    "#del tasks_dict[\"Monday\"][\"painting\"]"
   ]
  },
  {
   "cell_type": "code",
   "execution_count": 18,
   "id": "2b7b728f-9a8d-4ea0-b411-b254aa9b4520",
   "metadata": {},
   "outputs": [
    {
     "name": "stdin",
     "output_type": "stream",
     "text": [
      "Would you like to mark a habit as completed? Y/N n\n"
     ]
    }
   ],
   "source": [
    "#Function to mark habits as completed.\n",
    "def mark_habits_true(habit_pass):\n",
    "    if habit_pass is None or habit_pass == {}:                                #Check to see if habit dict has any habits.\n",
    "        empty_add = input(\"OOPS! No habits are being tracked yet. Want to add some? Yes/No\").strip().title()\n",
    "        if empty_add == \"Yes\":\n",
    "            add_habits(habit_pass)\n",
    "    else:\n",
    "        mark_hab_yn = input('Would you like to mark a habit as completed? Y/N')\n",
    "        mark_hab_yn = mark_hab_yn.strip().title()\n",
    "        if mark_hab_yn == \"Y\":\n",
    "    \n",
    "            while True:\n",
    "                day_hab_comp = input('What day is the habit on?').strip().title()\n",
    "                if day_hab_comp in list_day_week:\n",
    "                    print('Day is valid')\n",
    "                    break\n",
    "                else:\n",
    "                        print('Day is not correct! Please fix!') #Will loop back to ask for day if it was initially incorrect\n",
    "            while True:        \n",
    "                hab_comp = input('Which habit is completed?').strip().title()\n",
    "                #empty = return habit_pass\n",
    "                if hab_comp in habit_pass:\n",
    "                    #print(f\"{hab_comp} is being tracked\")\n",
    "                    for key, value in habit_pass.items(): #Loop through habits and mark completed(true) for specific day.\n",
    "                        if key == hab_comp:\n",
    "                            for value in habit_pass.values():\n",
    "                                habit_pass[hab_comp][day_hab_comp] = True\n",
    "                    print(f\"{hab_comp} on {day_hab_comp} has been updated to completed\")\n",
    "                    break\n",
    "                    \n",
    "                \n",
    "                else:\n",
    "                    print(f\"{hab_comp} does not exist. Try again\")\n",
    "                    continue\n",
    "    return habit_pass\n",
    "habits_dict = mark_habits_true(habits_dict)\n",
    "        "
   ]
  },
  {
   "cell_type": "code",
   "execution_count": 33,
   "id": "5855963e-eaaf-4caa-8143-fe8fd2e40a6d",
   "metadata": {},
   "outputs": [
    {
     "name": "stdout",
     "output_type": "stream",
     "text": [
      "{}\n"
     ]
    }
   ],
   "source": [
    "print(f\"{habits_dict}\")\n",
    "#del habits_dict[\"Reading\"]"
   ]
  },
  {
   "cell_type": "code",
   "execution_count": 27,
   "id": "89e652b2-d37d-410c-9352-e4fe30f0ece2",
   "metadata": {},
   "outputs": [
    {
     "name": "stdout",
     "output_type": "stream",
     "text": [
      "You can remove tasks if you want! Checking to see if any tasks exist for the week.\n"
     ]
    },
    {
     "name": "stdin",
     "output_type": "stream",
     "text": [
      "Which day is the task you want to remove on? monday\n"
     ]
    },
    {
     "name": "stdout",
     "output_type": "stream",
     "text": [
      "Day is valid\n",
      "\n",
      "Here is a list of tasks for Monday:\n",
      "1. Painting: False\n",
      "2. Reading: True\n"
     ]
    },
    {
     "name": "stdin",
     "output_type": "stream",
     "text": [
      "Enter the number of the task you want to remove (or 'cancel' to abort):  2\n"
     ]
    },
    {
     "name": "stdout",
     "output_type": "stream",
     "text": [
      "Task 'Reading' removed from Monday.\n"
     ]
    }
   ],
   "source": [
    "def rm_tasks(task_rem):\n",
    "    print('You can remove tasks if you want! Checking to see if any tasks exist for the week.')\n",
    "    # Checking to see if any tasks exist for the week\n",
    "    \n",
    "    for day, task in task_rem.items():\n",
    "        no_tasks_week = ('No tasks exist for the week! Exiting the program.')\n",
    "        if task == {}:\n",
    "            #no_tasks_week = ('No tasks exist for the week! Exiting the program.')\n",
    "            print(no_tasks_week)\n",
    "            return task_rem\n",
    "        else:\n",
    "            while True:\n",
    "                task_day = input('Which day is the task you want to remove on?').strip().title()\n",
    "                if task_day in list_day_week:\n",
    "                    print('Day is valid')\n",
    "                    #break\n",
    "                else:\n",
    "                    print('Day is not correct! Please fix!') #Will loop back to ask for day if it was initially incorrect\n",
    "                    continue\n",
    "            \n",
    "                current_day_tasks = task_rem.get(task_day, {})\n",
    "                if not current_day_tasks: # Check to see if the day is empty and display message if so.\n",
    "                    print(f\"There are no tasks for {task_day}.\")\n",
    "                    continue   #return # Exit the function if there are no tasks to remove\n",
    "                else:\n",
    "                    print(f\"\\nHere is a list of tasks for {task_day}:\")\n",
    "                    for i, (task_name, task_details) in enumerate(current_day_tasks.items(), 1): # Display tasks numbered in casd more than 1.\n",
    "                        print(f\"{i}. {task_name}: {task_details}\")\n",
    "                break\n",
    "                \n",
    "            while True:\n",
    "                try:\n",
    "                    to_rem = input(\"Enter the number of the task you want to remove (or 'cancel' to abort): \").strip().lower()\n",
    "                    if to_rem == 'cancel':\n",
    "                        print(\"Task removal cancelled.\")\n",
    "                        return\n",
    "                    task_num = int(to_rem)  # Convert task number to actual task key\n",
    "                    if 1 <= task_num <= len(current_day_tasks):\n",
    "                        task_keys = list(current_day_tasks.keys())\n",
    "                        task_key_rem = task_keys[task_num - 1]\n",
    "                        del current_day_tasks[task_key_rem] # Remove the task\n",
    "                    print(f\"Task '{task_key_rem}' removed from {task_day}.\")\n",
    "                    break\n",
    "                except ValueError:\n",
    "                        print(\"Invalid input. Please enter a number or 'cancel'.\")\n",
    "            return task_rem\n",
    "tasks_dict = rm_tasks(tasks_dict)"
   ]
  },
  {
   "cell_type": "code",
   "execution_count": 35,
   "id": "42a62960-a74c-4d87-8b0c-c5435fee37f4",
   "metadata": {},
   "outputs": [
    {
     "name": "stdout",
     "output_type": "stream",
     "text": [
      "No tasks exist for the week! Exiting the program.\n"
     ]
    }
   ],
   "source": [
    "#Check to see if any tasks exist for any day\n",
    "\n",
    "for day, task in tasks_dict.items():\n",
    "    #print(task)\n",
    "    if task == {}:\n",
    "        no_tasks_week = ('No tasks exist for the week! Exiting the program.')\n",
    "print(no_tasks_week)"
   ]
  },
  {
   "cell_type": "code",
   "execution_count": 24,
   "id": "35b9145c-3d7f-45b6-ad18-c94fc5bd0731",
   "metadata": {},
   "outputs": [
    {
     "name": "stdout",
     "output_type": "stream",
     "text": [
      "{'Monday': {'Painting': False, 'Reading': True}, 'Tuesday': {'Washing': False}, 'Wednesday': {'Cutting': False}, 'Thursday': {'Trimming': False}, 'Friday': {'Mowing': False}, 'Saturday': {'Clean Garage': False}, 'Sunday': {'Walk Dog': False}}\n"
     ]
    }
   ],
   "source": [
    "print(tasks_dict)"
   ]
  },
  {
   "cell_type": "code",
   "execution_count": 37,
   "id": "3e4fb18a-636f-45d2-823e-d0f2b9651ed6",
   "metadata": {},
   "outputs": [
    {
     "name": "stdout",
     "output_type": "stream",
     "text": [
      "You can remove habits if you want! Checking to see if any habits exist for the week.\n",
      "OOPS! No habits are being tracked yet. Exiting\n"
     ]
    }
   ],
   "source": [
    "def rm_habits(pass_habit):\n",
    "    print('You can remove habits if you want! Checking to see if any habits exist for the week.')\n",
    "    while True:\n",
    "        if pass_habit is None:              #Check to see if habit dict has any habits.\n",
    "            pass_habit = {}\n",
    "            print(\"OOPS! No habits are being tracked yet. Exiting\")\n",
    "            break\n",
    "        elif pass_habit == {}:\n",
    "            print(\"OOPS! No habits are being tracked yet. Exiting\")\n",
    "        else:\n",
    "            habit_rem_yn = input('Would you like to remove a habit? Yes or No').strip().title()\n",
    "            if habit_rem_yn == \"Yes\":\n",
    "                print('Here is a list of habits you are tracking.\\n')\n",
    "                for key, value in pass_habit.items():\n",
    "                   print(f\"{key} = {value}\")\n",
    "                habit_rem = input('Which habit do you want to remove?').strip().title()\n",
    "                while True:\n",
    "                    habit_day_rem = input(f\"On which day do you want {habit_rem} to be removed from?\").strip().title()\n",
    "                    if habit_day_rem in list_day_week:\n",
    "                        print('Day is valid')\n",
    "                    else:\n",
    "                        print(habit_day_rem)\n",
    "                        print('Day not correct. Please fix')\n",
    "                    break\n",
    "                        \n",
    "                if habit_rem in pass_habit:\n",
    "                    del pass_habit[habit_rem][habit_day_rem]\n",
    "                    print(f\"{habit_rem} has been removed from the habit tracker on {habit_day_rem}.\")\n",
    "            else:\n",
    "                print('Removing habit is cancelled')\n",
    "            \n",
    "        break\n",
    "habits_dict = rm_habits(habits_dict)\n",
    "    "
   ]
  },
  {
   "cell_type": "code",
   "execution_count": 38,
   "id": "bdeb4bf0-739c-414b-a218-36206e555054",
   "metadata": {},
   "outputs": [
    {
     "name": "stdout",
     "output_type": "stream",
     "text": [
      "None\n"
     ]
    }
   ],
   "source": [
    "print(habits_dict)"
   ]
  },
  {
   "cell_type": "code",
   "execution_count": 30,
   "id": "fcf0c490-603d-4861-8a7e-706fe88b0565",
   "metadata": {},
   "outputs": [
    {
     "name": "stdout",
     "output_type": "stream",
     "text": [
      "Welcome to the weekly report generator. You can create a report of the habits completed or a report of tasks completed or incompleted.\n",
      "**************************************************************************************************************************************\n"
     ]
    },
    {
     "name": "stdin",
     "output_type": "stream",
     "text": [
      "Do you want to create a report for your habits and tasks? Y/N n\n"
     ]
    },
    {
     "name": "stdout",
     "output_type": "stream",
     "text": [
      "Reporting has been cancelled!\n"
     ]
    }
   ],
   "source": [
    "def weekly_report(hab_rep,task_rep):\n",
    "    #get_date_start_week() #Don't really need this here but have to call the function somewhere\n",
    "    heading = \"Welcome to the weekly report generator. You can create a report of the habits completed or a report of tasks completed or incompleted.\"\n",
    "    print(heading)\n",
    "    print(\"*\" * len(heading))\n",
    "    #print('Welcome to the weekly report generator. You can create a report of the habits completed\\n or a report of tasks completed or incompleted.')\n",
    "    rep_yn = input('Do you want to create a report for your habits and tasks? Y/N').strip().title()\n",
    "  \n",
    "    \n",
    "    if rep_yn == \"Y\":\n",
    "        if not hab_rep:\n",
    "            print('Sorry! But there are no habits being tracked') #Need to empy habits to check this.\n",
    "        elif not task_rep:\n",
    "            print('Sorry! But there are no tasks being tracked') #Need to empy tasks to check this.\n",
    "        else:\n",
    "            print(\"Alright. Let's create a report. For your convenience here is a list of your habits and tasks\" + '\\n')\n",
    "            print('My Habits so far:')\n",
    "            print(*habits_dict) #Need comma in between habits\n",
    "            print()\n",
    "            print('My Tasks so far:')\n",
    "            \n",
    "            for day,tasks in tasks_dict.items():\n",
    "                for task_name in tasks.keys():\n",
    "                    print(f\"{task_name}, \", end=' ') \n",
    "           \n",
    "            print(\"\\n\")\n",
    "            print('*' * len(heading))\n",
    "    \n",
    "            #Loop though habits to count number of time each habit was completed\n",
    "            print(f\"Habits Completed for the week of {formatted_date}!\")\n",
    "            print(' ')\n",
    "            \n",
    "            for habit,day in hab_rep.items():\n",
    "                num_compl = 0\n",
    "                for day, compl in day.items(): \n",
    "                    if compl:\n",
    "                        num_compl += 1 \n",
    "                if num_compl > 1:\n",
    "                    print(f\"{habit} was completed {num_compl} days out of 7 this week.\") #So print says days(plural)\n",
    "                elif num_compl == 1:\n",
    "                    print(f\"{habit} was completed {num_compl} day out of 7 this week.\") #So it prints day(singular)\n",
    "            print(' ')\n",
    "\n",
    "            \n",
    "            #Loop through tasks dict and list tasks as completed and incompleted\n",
    "            \n",
    "            \n",
    "            task_compl_list = []\n",
    "            task_notcompl_list = []\n",
    "            for day, task in task_rep.items():\n",
    "                for task_name, compl in task.items():\n",
    "                    formatted_task = f\"{task_name} ({day})\"\n",
    "                    if compl:\n",
    "                        task_compl_list.append(formatted_task)\n",
    "                    else:\n",
    "                        task_notcompl_list.append(formatted_task)\n",
    "                        \n",
    "            print(f\"Completed Tasks for the week of {formatted_date}\")\n",
    "            #get_date_start_week()\n",
    "            if task_compl_list:\n",
    "                print(\", \".join(task_compl_list)) #.join() to print all tasks on a single line\n",
    "            else:\n",
    "                print(\"No tasks completed this week.\")\n",
    "            print(\"\\n\"f\"Uncompleted tasks for the week of {formatted_date}\")\n",
    "            if task_notcompl_list:\n",
    "                print(\", \".join(task_notcompl_list))\n",
    "            else:\n",
    "                print(\"All tasks completed! (Or no uncompleted tasks found).\")\n",
    "    else:\n",
    "        print('Reporting has been cancelled!')\n",
    "        \n",
    "\n",
    "\n",
    "week_rep = weekly_report(habits_dict,tasks_dict)"
   ]
  },
  {
   "cell_type": "code",
   "execution_count": 40,
   "id": "638ff7a4-ee9a-4971-b608-84df31406eb6",
   "metadata": {},
   "outputs": [
    {
     "name": "stdout",
     "output_type": "stream",
     "text": [
      "None\n"
     ]
    }
   ],
   "source": [
    "print(habits_dict)\n",
    "#add_habits(habits_dict)\n",
    "#habits_dict = mark_habits_true(habits_dict)"
   ]
  },
  {
   "cell_type": "code",
   "execution_count": 41,
   "id": "fc29ae70-c0db-452c-9640-3e78a3dc07c9",
   "metadata": {},
   "outputs": [
    {
     "name": "stdout",
     "output_type": "stream",
     "text": [
      "Welcome to the add task manager. Please provide the information below. Type DONE when finished\n"
     ]
    },
    {
     "name": "stdin",
     "output_type": "stream",
     "text": [
      "Which day of the week do you want to add a task to? Type DONE if finished  done\n"
     ]
    },
    {
     "name": "stdout",
     "output_type": "stream",
     "text": [
      "Finished adding tasks.\n"
     ]
    },
    {
     "data": {
      "text/plain": [
       "{'Monday': {},\n",
       " 'Tuesday': {},\n",
       " 'Wednesday': {},\n",
       " 'Thursday': {},\n",
       " 'Friday': {},\n",
       " 'Saturday': {},\n",
       " 'Sunday': {}}"
      ]
     },
     "execution_count": 41,
     "metadata": {},
     "output_type": "execute_result"
    }
   ],
   "source": [
    "#print(tasks_dict)\n",
    "add_tasks(tasks_dict)\n",
    "#tasks_dict = tasks_incompleted(tasks_dict)"
   ]
  },
  {
   "cell_type": "code",
   "execution_count": 34,
   "id": "a976bbd0-207e-4091-94f0-0f3ae742a797",
   "metadata": {},
   "outputs": [
    {
     "name": "stdout",
     "output_type": "stream",
     "text": [
      "for the week of June 09, 2025\n"
     ]
    },
    {
     "data": {
      "text/plain": [
       "'June 09, 2025'"
      ]
     },
     "execution_count": 34,
     "metadata": {},
     "output_type": "execute_result"
    }
   ],
   "source": [
    "def get_date_start_week():\n",
    "    today = datetime.date.today()\n",
    "    # Calculate the start of the week (Monday)\n",
    "    # weekday() returns 0 for Monday, 1 for Tuesday, ..., 6 for Sunday\n",
    "    days_since_monday = today.weekday()\n",
    "    display_date = today - datetime.timedelta(days=days_since_monday)\n",
    "    \n",
    "    # Format the date as \"Month Day, Year\"\n",
    "    global formatted_date\n",
    "    formatted_date = display_date.strftime(\"%B %d, %Y\")\n",
    "    \n",
    "    print(f\"for the week of {formatted_date}\")\n",
    "    return formatted_date\n",
    "    print(formatted_date)\n",
    "get_date_start_week()"
   ]
  },
  {
   "cell_type": "code",
   "execution_count": 45,
   "id": "99aff2ce-7937-4abf-b1fb-d893bcb4dc47",
   "metadata": {},
   "outputs": [
    {
     "name": "stdout",
     "output_type": "stream",
     "text": [
      "Let's take a look at all activities for a specific day\n"
     ]
    },
    {
     "name": "stdin",
     "output_type": "stream",
     "text": [
      "Which day of the week do you want to view activities for? or Done if you want cancel monday\n"
     ]
    },
    {
     "name": "stdout",
     "output_type": "stream",
     "text": [
      "✅--- Completed Tasks for Monday ---✅\n",
      "No tasks completed today.\n",
      "\n",
      "❌--- Uncompleted Tasks for Monday ---❌\n",
      "Monday: Painting\n",
      "\n",
      "✅--- Completed Habits for Monday ---✅\n",
      "No habits completed today.\n",
      "\n",
      "❌--- Uncompleted Habits for Monday ---❌\n",
      "Reading Walking Biking Drink Water Hiking Running\n",
      "\n"
     ]
    },
    {
     "name": "stdin",
     "output_type": "stream",
     "text": [
      "Which day of the week do you want to view activities for? or Done if you want cancel done\n"
     ]
    },
    {
     "name": "stdout",
     "output_type": "stream",
     "text": [
      "Cancelling daily report\n"
     ]
    }
   ],
   "source": [
    "#This function allows the user to view all their activity for a specific day.\n",
    "#- Ask the user to enter a day (e.g., \"Monday\").\n",
    "#- If the day is valid:\n",
    "#    - Display all tasks for that day, showing whether each one is complete or not.\n",
    "#    - Display all habits, showing whether they were completed on that day.\n",
    "#- Use ✅ for completed and ❌ for not completed.\n",
    "\n",
    "def daily_report(hab_drep, task_drep):\n",
    "    print(\"Let's take a look at all activities for a specific day\")\n",
    "    \n",
    "    while True:\n",
    "        day_act = input('Which day of the week do you want to view activities for? or Done if you want cancel').strip().title()\n",
    "        if day_act in list_day_week:\n",
    "            #print('Day is valid')\n",
    "            # Getting completed and uncompleted tasks by day entered\n",
    "        \n",
    "            task_compl_list_str = []\n",
    "            task_notcompl_list_str = []\n",
    "            for day, task in task_drep.items():\n",
    "                task_compl_today = []\n",
    "                task_uncompl_today = []\n",
    "                if day == day_act:\n",
    "        \n",
    "                    for task_name, compl in task.items():\n",
    "                        if compl:\n",
    "                            task_compl_today.append(task_name)\n",
    "                        else:\n",
    "                            task_uncompl_today.append(task_name)\n",
    "                    if task_compl_today:\n",
    "                         task_compl_list_str.append(f\"{day}: {', '.join(task_compl_today)}\")\n",
    "                    if task_uncompl_today:\n",
    "                        task_notcompl_list_str.append(f\"{day}: {', '.join(task_uncompl_today)}\")\n",
    "        \n",
    "            print(f\"✅--- Completed Tasks for {day_act} ---✅\")\n",
    "            if task_compl_list_str:\n",
    "                # Join all the daily strings on a single line with a separator\n",
    "                print(''.join(task_compl_list_str))\n",
    "            else:\n",
    "                print(\"No tasks completed today.\")\n",
    "            print() # Add a newline for separation\n",
    "            \n",
    "            print(f\"❌--- Uncompleted Tasks for {day_act} ---❌\")\n",
    "            if task_notcompl_list_str:\n",
    "                # Join all the daily strings on a single line with a separator\n",
    "                print(''.join(task_notcompl_list_str))\n",
    "            else:\n",
    "                print(\"All tasks completed! (Or no uncompleted tasks found).\")\n",
    "            print() # Add a newline\n",
    "        \n",
    "            # Getting completed and uncompleted habits for day entered by user\n",
    "        \n",
    "            #habit_compl_list_str = []\n",
    "            #habit_notcompl_list_str = []\n",
    "            habit_compl_today = []\n",
    "            habit_uncompl_today = []\n",
    "            for hab, compl in hab_drep.items():\n",
    "                \n",
    "                if day_act in compl:\n",
    "                    is_compl = compl[day_act]\n",
    "                    if is_compl:\n",
    "                        habit_compl_today.append(hab)                          \n",
    "                        \n",
    "                    else:\n",
    "                        habit_uncompl_today.append(hab)\n",
    "                else:\n",
    "                    print(f\"Note: '{hab}' has no tracking data for {day_act}\")\n",
    "        \n",
    "                    \n",
    "            print(f\"✅--- Completed Habits for {day_act} ---✅\")\n",
    "            if habit_compl_today:\n",
    "                # Join all the daily strings on a single line with a separator\n",
    "                print(' '.join(habit_compl_today))\n",
    "            else:\n",
    "                print(\"No habits completed today.\")\n",
    "            print() # Add a newline for separation\n",
    "            \n",
    "            print(f\"❌--- Uncompleted Habits for {day_act} ---❌\")\n",
    "            if habit_uncompl_today:\n",
    "                # Join all the daily strings on a single line with a separator\n",
    "                print(' '.join(habit_uncompl_today))\n",
    "            else:\n",
    "                print(\"All habits completed! (Or no uncompleted habits found).\")\n",
    "            print() # Add a newline\n",
    "                #continue#do some stuff\n",
    "        elif day_act == \"Done\":\n",
    "            print('Cancelling daily report')\n",
    "            break\n",
    "        else:\n",
    "            print('Invalid day.Please fix')\n",
    "            continue\n",
    "            \n",
    "daily_rep = daily_report(habits_dict,tasks_dict)"
   ]
  },
  {
   "cell_type": "code",
   "execution_count": 59,
   "id": "06ec8eb1-22c3-4e96-a3cf-eed6c9cb80a5",
   "metadata": {},
   "outputs": [
    {
     "name": "stdout",
     "output_type": "stream",
     "text": [
      "\u001b[1mThis is the main menu of the habit and task tracker. Please choose your option.\u001b[0m\n",
      "● 1. Adding a Task or Habit\n",
      "● 2. Marking a Task or Habit as complete\n",
      "● 3. Removing a Task or Habit\n",
      "● 4. Viewing Reports\n",
      "● 5. Exiting the Program\n"
     ]
    },
    {
     "name": "stdin",
     "output_type": "stream",
     "text": [
      "Please select a numbered option. 4\n"
     ]
    },
    {
     "name": "stdout",
     "output_type": "stream",
     "text": [
      "Welcome to the weekly report generator. You can create a report of the habits completed or a report of tasks completed or incompleted.\n",
      "**************************************************************************************************************************************\n"
     ]
    },
    {
     "name": "stdin",
     "output_type": "stream",
     "text": [
      "Do you want to create a report for your habits and tasks? Y/N y\n"
     ]
    },
    {
     "name": "stdout",
     "output_type": "stream",
     "text": [
      "Alright. Let's create a report. For your convenience here is a list of your habits and tasks\n",
      "\n",
      "My Habits so far:\n",
      "Reading Walking Biking Drink Water Hiking Running\n",
      "\n",
      "My Tasks so far:\n",
      "Painting,  Washing,  Cutting,  Trimming,  Mowing,  Clean Garage,  Walk Dog,  \n",
      "\n",
      "**************************************************************************************************************************************\n",
      "Habits Completed for the week of June 09, 2025!\n",
      " \n",
      "Biking was completed 1 day out of 7 this week.\n",
      " \n",
      "Completed Tasks for the week of June 09, 2025\n",
      "Washing (Tuesday)\n",
      "\n",
      "Uncompleted tasks for the week of June 09, 2025\n",
      "Painting (Monday), Cutting (Wednesday), Trimming (Thursday), Mowing (Friday), Clean Garage (Saturday), Walk Dog (Sunday)\n"
     ]
    },
    {
     "data": {
      "text/html": [
       "<pre style=\"white-space:pre;overflow-x:auto;line-height:normal;font-family:Menlo,'DejaVu Sans Mono',consolas,'Courier New',monospace\">Want to see a report of activities for a <span style=\"font-weight: bold\">specific</span> day? Y/N 😃 </pre>\n"
      ],
      "text/plain": [
       "Want to see a report of activities for a \u001b[1mspecific\u001b[0m day? Y/N 😃 "
      ]
     },
     "metadata": {},
     "output_type": "display_data"
    },
    {
     "ename": "KeyboardInterrupt",
     "evalue": "Interrupted by user",
     "output_type": "error",
     "traceback": [
      "\u001b[0;31m---------------------------------------------------------------------------\u001b[0m",
      "\u001b[0;31mKeyboardInterrupt\u001b[0m                         Traceback (most recent call last)",
      "Cell \u001b[0;32mIn[59], line 65\u001b[0m\n\u001b[1;32m     58\u001b[0m         \u001b[38;5;28;01mexcept\u001b[39;00m \u001b[38;5;167;01mValueError\u001b[39;00m:                                                      \u001b[38;5;66;03m# Catch if the user enters non-numeric input\u001b[39;00m\n\u001b[1;32m     59\u001b[0m             \u001b[38;5;28mprint\u001b[39m(\u001b[38;5;124mf\u001b[39m\u001b[38;5;124m\"\u001b[39m\u001b[38;5;132;01m{\u001b[39;00mRED\u001b[38;5;132;01m}\u001b[39;00m\u001b[38;5;124mInvalid input. Please enter a number.\u001b[39m\u001b[38;5;132;01m{\u001b[39;00mRESET\u001b[38;5;132;01m}\u001b[39;00m\u001b[38;5;124m\"\u001b[39m)\n\u001b[0;32m---> 65\u001b[0m main_menu()\n",
      "Cell \u001b[0;32mIn[59], line 46\u001b[0m, in \u001b[0;36mmain_menu\u001b[0;34m()\u001b[0m\n\u001b[1;32m     44\u001b[0m \u001b[38;5;28;01melif\u001b[39;00m men_opt \u001b[38;5;241m==\u001b[39m \u001b[38;5;241m4\u001b[39m:\n\u001b[1;32m     45\u001b[0m     week_rep \u001b[38;5;241m=\u001b[39m weekly_report(habits_dict,tasks_dict)\n\u001b[0;32m---> 46\u001b[0m     next_rep \u001b[38;5;241m=\u001b[39m console\u001b[38;5;241m.\u001b[39minput(\u001b[38;5;124mf\u001b[39m\u001b[38;5;124m\"\u001b[39m\u001b[38;5;124mWant to see a report of activities for a [bold]specific[/] day? Y/N :smiley: \u001b[39m\u001b[38;5;124m\"\u001b[39m)\u001b[38;5;241m.\u001b[39mstrip()\u001b[38;5;241m.\u001b[39mtitle()\n\u001b[1;32m     47\u001b[0m     \u001b[38;5;28mprint\u001b[39m()\n\u001b[1;32m     48\u001b[0m     \u001b[38;5;28;01mif\u001b[39;00m next_rep \u001b[38;5;241m==\u001b[39m \u001b[38;5;124m\"\u001b[39m\u001b[38;5;124mY\u001b[39m\u001b[38;5;124m\"\u001b[39m:\n",
      "File \u001b[0;32m/opt/anaconda3/lib/python3.12/site-packages/rich/console.py:2123\u001b[0m, in \u001b[0;36mConsole.input\u001b[0;34m(self, prompt, markup, emoji, password, stream)\u001b[0m\n\u001b[1;32m   2121\u001b[0m         result \u001b[38;5;241m=\u001b[39m stream\u001b[38;5;241m.\u001b[39mreadline()\n\u001b[1;32m   2122\u001b[0m     \u001b[38;5;28;01melse\u001b[39;00m:\n\u001b[0;32m-> 2123\u001b[0m         result \u001b[38;5;241m=\u001b[39m \u001b[38;5;28minput\u001b[39m()\n\u001b[1;32m   2124\u001b[0m \u001b[38;5;28;01mreturn\u001b[39;00m result\n",
      "File \u001b[0;32m/opt/anaconda3/lib/python3.12/site-packages/ipykernel/kernelbase.py:1262\u001b[0m, in \u001b[0;36mKernel.raw_input\u001b[0;34m(self, prompt)\u001b[0m\n\u001b[1;32m   1260\u001b[0m     msg \u001b[38;5;241m=\u001b[39m \u001b[38;5;124m\"\u001b[39m\u001b[38;5;124mraw_input was called, but this frontend does not support input requests.\u001b[39m\u001b[38;5;124m\"\u001b[39m\n\u001b[1;32m   1261\u001b[0m     \u001b[38;5;28;01mraise\u001b[39;00m StdinNotImplementedError(msg)\n\u001b[0;32m-> 1262\u001b[0m \u001b[38;5;28;01mreturn\u001b[39;00m \u001b[38;5;28mself\u001b[39m\u001b[38;5;241m.\u001b[39m_input_request(\n\u001b[1;32m   1263\u001b[0m     \u001b[38;5;28mstr\u001b[39m(prompt),\n\u001b[1;32m   1264\u001b[0m     \u001b[38;5;28mself\u001b[39m\u001b[38;5;241m.\u001b[39m_parent_ident[\u001b[38;5;124m\"\u001b[39m\u001b[38;5;124mshell\u001b[39m\u001b[38;5;124m\"\u001b[39m],\n\u001b[1;32m   1265\u001b[0m     \u001b[38;5;28mself\u001b[39m\u001b[38;5;241m.\u001b[39mget_parent(\u001b[38;5;124m\"\u001b[39m\u001b[38;5;124mshell\u001b[39m\u001b[38;5;124m\"\u001b[39m),\n\u001b[1;32m   1266\u001b[0m     password\u001b[38;5;241m=\u001b[39m\u001b[38;5;28;01mFalse\u001b[39;00m,\n\u001b[1;32m   1267\u001b[0m )\n",
      "File \u001b[0;32m/opt/anaconda3/lib/python3.12/site-packages/ipykernel/kernelbase.py:1305\u001b[0m, in \u001b[0;36mKernel._input_request\u001b[0;34m(self, prompt, ident, parent, password)\u001b[0m\n\u001b[1;32m   1302\u001b[0m \u001b[38;5;28;01mexcept\u001b[39;00m \u001b[38;5;167;01mKeyboardInterrupt\u001b[39;00m:\n\u001b[1;32m   1303\u001b[0m     \u001b[38;5;66;03m# re-raise KeyboardInterrupt, to truncate traceback\u001b[39;00m\n\u001b[1;32m   1304\u001b[0m     msg \u001b[38;5;241m=\u001b[39m \u001b[38;5;124m\"\u001b[39m\u001b[38;5;124mInterrupted by user\u001b[39m\u001b[38;5;124m\"\u001b[39m\n\u001b[0;32m-> 1305\u001b[0m     \u001b[38;5;28;01mraise\u001b[39;00m \u001b[38;5;167;01mKeyboardInterrupt\u001b[39;00m(msg) \u001b[38;5;28;01mfrom\u001b[39;00m \u001b[38;5;28;01mNone\u001b[39;00m\n\u001b[1;32m   1306\u001b[0m \u001b[38;5;28;01mexcept\u001b[39;00m \u001b[38;5;167;01mException\u001b[39;00m:\n\u001b[1;32m   1307\u001b[0m     \u001b[38;5;28mself\u001b[39m\u001b[38;5;241m.\u001b[39mlog\u001b[38;5;241m.\u001b[39mwarning(\u001b[38;5;124m\"\u001b[39m\u001b[38;5;124mInvalid Message:\u001b[39m\u001b[38;5;124m\"\u001b[39m, exc_info\u001b[38;5;241m=\u001b[39m\u001b[38;5;28;01mTrue\u001b[39;00m)\n",
      "\u001b[0;31mKeyboardInterrupt\u001b[0m: Interrupted by user"
     ]
    }
   ],
   "source": [
    "### from IPython.display import Image\n",
    "\n",
    "def main_menu():\n",
    "    BOLD = '\\033[1m' # Used for bolding and unbolding and coloring of some print outputs\n",
    "    RESET = '\\033[0m'\n",
    "    RED = \"\\033[31m\"\n",
    "    GREEN = \"\\033[32m\"\n",
    "    YELLOW = \"\\033[33m\"\n",
    "    BLUE = \"\\033[34m\"\n",
    "    heading = \"This is the main menu of the habit and task tracker. Please choose your option.\"\n",
    "    print(f\"{BOLD}{heading}{RESET}\")\n",
    "    #display.Image(\"/Users/rickking/Documents/Acenet/R_King_Project/habits_pic.jpg\")\n",
    "    Image(url=\"/Users/rickking/Documents/Acenet/R_King_Project/habits_pic.jpg\", width=20, height=20)\n",
    "\n",
    "    opt1 = \"1. Adding a Task or Habit\"\n",
    "    opt2 = \"2. Marking a Task or Habit as complete\"\n",
    "    opt3 = \"3. Removing a Task or Habit\"\n",
    "    opt4 = \"4. Viewing Reports\"\n",
    "    opt5 = \"5. Exiting the Program\"\n",
    "\n",
    "    global habits_dict, tasks_dict # Declaring both dictionaries\n",
    "    while True:\n",
    "        print(f\"● {opt1}\")\n",
    "        print(f\"● {opt2}\")\n",
    "        print(f\"● {opt3}\")\n",
    "        print(f\"● {opt4}\")\n",
    "        print(f\"● {opt5}\")\n",
    "\n",
    "        try:\n",
    "            men_opt = int(input('Please select a numbered option.'))\n",
    "            \n",
    "            if men_opt == 1:\n",
    "                tasks_dict = add_tasks(tasks_dict)\n",
    "                habits_dict = add_habits(habits_dict)\n",
    "                \n",
    "                \n",
    "            elif men_opt == 2:\n",
    "                tasks_dict = tasks_incompleted(tasks_dict);\n",
    "                habits_dict = mark_habits_true(habits_dict);\n",
    "                \n",
    "            elif men_opt == 3:\n",
    "                tasks_dict = rm_tasks(tasks_dict)\n",
    "                habits_dict = rm_habits(habits_dict)\n",
    "            elif men_opt == 4:\n",
    "                week_rep = weekly_report(habits_dict,tasks_dict)\n",
    "                next_rep = console.input(f\"Want to see a report of activities for a [bold]specific[/] day? Y/N :smiley: \").strip().title()\n",
    "                print()\n",
    "                if next_rep == \"Y\":\n",
    "                    daily_rep = daily_report(habits_dict,tasks_dict)\n",
    "                else:\n",
    "                    break\n",
    "                \n",
    "            elif men_opt == 5:\n",
    "                print('Exiting the Program!')\n",
    "                break\n",
    "            else:\n",
    "                print('Invalid selection. Please enter a number between 1-5')\n",
    "        except ValueError:                                                      # Catch if the user enters non-numeric input\n",
    "            print(f\"{RED}Invalid input. Please enter a number.{RESET}\")\n",
    "            \n",
    "        \n",
    "        \n",
    "                \n",
    "\n",
    "main_menu()\n",
    "#NOTES: After selecting option and running it keeps prompting for another option.\n",
    "#Menu options are for 2 functions. How do you run both.\n",
    "#Getting an error now.\n"
   ]
  },
  {
   "cell_type": "code",
   "execution_count": 70,
   "id": "e2c50e49-d1da-48dc-a38a-3baaadbcc987",
   "metadata": {},
   "outputs": [
    {
     "data": {
      "text/html": [
       "<pre style=\"white-space:pre;overflow-x:auto;line-height:normal;font-family:Menlo,'DejaVu Sans Mono',consolas,'Courier New',monospace\"><span style=\"color: #800000; text-decoration-color: #800000\">Hi</span>\n",
       "</pre>\n"
      ],
      "text/plain": [
       "\u001b[31mHi\u001b[0m\n"
      ]
     },
     "metadata": {},
     "output_type": "display_data"
    }
   ],
   "source": [
    "#console.input(\"What is [i]your[/i] [bold red]name[/]? :smiley: \")\n",
    "#print(\"[bold italic yellow on red blink]This text is impossible to read\")\n",
    "print(\"[red]Hi[/red]\")"
   ]
  },
  {
   "cell_type": "code",
   "execution_count": null,
   "id": "42206a6e-68ca-4e80-8855-8f676e7336f1",
   "metadata": {},
   "outputs": [],
   "source": []
  }
 ],
 "metadata": {
  "kernelspec": {
   "display_name": "Python 3 (ipykernel)",
   "language": "python",
   "name": "python3"
  },
  "language_info": {
   "codemirror_mode": {
    "name": "ipython",
    "version": 3
   },
   "file_extension": ".py",
   "mimetype": "text/x-python",
   "name": "python",
   "nbconvert_exporter": "python",
   "pygments_lexer": "ipython3",
   "version": "3.12.7"
  }
 },
 "nbformat": 4,
 "nbformat_minor": 5
}
