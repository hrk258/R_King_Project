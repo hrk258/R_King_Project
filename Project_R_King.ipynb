{
 "cells": [
  {
   "cell_type": "markdown",
   "id": "716b806e-60ad-4e87-b275-d5e91ca32fa1",
   "metadata": {
    "id": "716b806e-60ad-4e87-b275-d5e91ca32fa1"
   },
   "source": [
    "# Project : Weekly Task & Habit Tracker\n",
    "## Overview of the Project\n",
    "In this project, you will develop a Weekly Task & Habit Tracker using Python. This tool will help users track their tasks and habits throughout the week, allowing them to efficiently manage and monitor their daily routines and progress. Whether for personal use or as a professional productivity tool, this project will empower you to create a highly functional, interactive application using fundamental programming concepts in Python.\n",
    "\n",
    "The task tracker will allow users to:\n",
    "\n",
    "- Add tasks to specific days of the week and being able to mark them as completed.\n",
    "- Add and track daily habits (such as exercise, water intake, reading, etc) and mark them as completed.\n",
    "- Remove tasks or habits when no longer needed.\n",
    "- View progress reports for both tasks and habits over a weekly or daily basis.\n",
    "\n",
    "## Objectives of the Project\n",
    "The primary goal of this project is to build a simple yet effective task and habit tracking application. Through this, you will:\n",
    "\n",
    "- Gain hands-on experience in developing Python applications with user input, loops, and conditionals.\n",
    "- Understand how to manage and manipulate data structures like dictionaries and lists to store and process data.\n",
    "- Learn how to design and implement interactive user interfaces in a command-line environment.\n",
    "- Develop a deep understanding of code modularity and best practices for organizing Python programs.\n",
    "\n",
    "## Evaluation Criteria\n",
    "Your project will be evaluated on the following aspects:\n",
    "\n",
    "- **Functionality**: The application should be fully functional, allowing users to add, remove, and mark tasks or habits as complete, as well as generate reports.\n",
    "\n",
    "- **Code Organization**: Code should be well-structured, with clear, meaningful variable names and appropriate use of functions. The overall organization should make it easy to extend or modify the program in the future.\n",
    "\n",
    "- **User Experience**: The application should be easy to use, with clear instructions, error handling, and appropriate feedback for the user.\n",
    "\n",
    "- **Completeness**: Ensure all features are implemented as described and that the program runs smoothly without errors.\n",
    "\n",
    "- **Creativity**: The application should be developed with an eye toward user experience. Feel free to enhance the application with additional features such as custom messages or additional functionality.\n",
    "\n",
    "\n",
    "By the end of this project, you will have developed a working task and habit tracker in Python, an excellent demonstration of your ability to apply programming skills to practical scenarios. You will also gain insights into software design, data management, and the development of tools that are both useful and efficient."
   ]
  },
  {
   "cell_type": "markdown",
   "id": "d5d1b472-0df8-4ffc-9ad6-f99d2eec262d",
   "metadata": {
    "id": "d5d1b472-0df8-4ffc-9ad6-f99d2eec262d"
   },
   "source": [
    "## Part 1: Initial Setup\n",
    "Set up the foundational structure for your weekly task and habit tracker.\n",
    "### Instructions:\n",
    "1. Create a list containing all the days of the week **('Monday', 'Tuesday', 'Wednesday', 'Thursday', 'Friday', 'Saturday', 'Sunday')**.\n",
    "2. Initialize an empty dictionary that will be used to track habits for the week.\n",
    "3. Create a second dictionary that uses the days of the week as keys, with each key initially linked to an empty dictionary for storing tasks."
   ]
  },
  {
   "cell_type": "code",
   "execution_count": 1,
   "id": "f1547fa4-5741-4921-9cc0-8774c11ee377",
   "metadata": {
    "id": "f1547fa4-5741-4921-9cc0-8774c11ee377"
   },
   "outputs": [
    {
     "name": "stdout",
     "output_type": "stream",
     "text": [
      "Welcome to the add task manager. Please provide the information below. Type DONE when finished\n"
     ]
    },
    {
     "ename": "KeyboardInterrupt",
     "evalue": "Interrupted by user",
     "output_type": "error",
     "traceback": [
      "\u001b[0;31m---------------------------------------------------------------------------\u001b[0m",
      "\u001b[0;31mKeyboardInterrupt\u001b[0m                         Traceback (most recent call last)",
      "Cell \u001b[0;32mIn[1], line 56\u001b[0m\n\u001b[1;32m     53\u001b[0m     \u001b[38;5;28;01mreturn\u001b[39;00m task_add\n\u001b[1;32m     55\u001b[0m \u001b[38;5;66;03m#add_tasks(store_tasks_dict)\u001b[39;00m\n\u001b[0;32m---> 56\u001b[0m store_tasks_dict \u001b[38;5;241m=\u001b[39m add_tasks(store_tasks_dict)\n\u001b[1;32m     57\u001b[0m \u001b[38;5;66;03m#print(store_tasks_dict) #Can uncomment to see tasks\u001b[39;00m\n\u001b[1;32m     58\u001b[0m \n\u001b[1;32m     59\u001b[0m \u001b[38;5;66;03m#Part 2b Function for adding habits to track habits dictionary\u001b[39;00m\n\u001b[1;32m     60\u001b[0m \u001b[38;5;66;03m#Setting habits completeness value to false for each day\u001b[39;00m\n\u001b[1;32m     61\u001b[0m \n\u001b[1;32m     62\u001b[0m \u001b[38;5;66;03m#Empty Dictionary to store habits.\u001b[39;00m\n\u001b[1;32m     63\u001b[0m track_habit_dict \u001b[38;5;241m=\u001b[39m {}\n",
      "Cell \u001b[0;32mIn[1], line 34\u001b[0m, in \u001b[0;36madd_tasks\u001b[0;34m(task_add)\u001b[0m\n\u001b[1;32m     32\u001b[0m \u001b[38;5;28mprint\u001b[39m(\u001b[38;5;124m'\u001b[39m\u001b[38;5;124mWelcome to the add task manager. Please provide the information below. Type DONE when finished\u001b[39m\u001b[38;5;124m'\u001b[39m)\n\u001b[1;32m     33\u001b[0m \u001b[38;5;28;01mwhile\u001b[39;00m \u001b[38;5;28;01mTrue\u001b[39;00m:\n\u001b[0;32m---> 34\u001b[0m     day \u001b[38;5;241m=\u001b[39m \u001b[38;5;28minput\u001b[39m(\u001b[38;5;124m'\u001b[39m\u001b[38;5;124mWhich day of the week do you want to add a task to?\u001b[39m\u001b[38;5;124m'\u001b[39m)\n\u001b[1;32m     35\u001b[0m     day \u001b[38;5;241m=\u001b[39m day\u001b[38;5;241m.\u001b[39mstrip()\u001b[38;5;241m.\u001b[39mtitle()\n\u001b[1;32m     36\u001b[0m     \u001b[38;5;28;01mif\u001b[39;00m day \u001b[38;5;241m==\u001b[39m \u001b[38;5;124m\"\u001b[39m\u001b[38;5;124mDone\u001b[39m\u001b[38;5;124m\"\u001b[39m:\n",
      "File \u001b[0;32m/opt/anaconda3/lib/python3.12/site-packages/ipykernel/kernelbase.py:1262\u001b[0m, in \u001b[0;36mKernel.raw_input\u001b[0;34m(self, prompt)\u001b[0m\n\u001b[1;32m   1260\u001b[0m     msg \u001b[38;5;241m=\u001b[39m \u001b[38;5;124m\"\u001b[39m\u001b[38;5;124mraw_input was called, but this frontend does not support input requests.\u001b[39m\u001b[38;5;124m\"\u001b[39m\n\u001b[1;32m   1261\u001b[0m     \u001b[38;5;28;01mraise\u001b[39;00m StdinNotImplementedError(msg)\n\u001b[0;32m-> 1262\u001b[0m \u001b[38;5;28;01mreturn\u001b[39;00m \u001b[38;5;28mself\u001b[39m\u001b[38;5;241m.\u001b[39m_input_request(\n\u001b[1;32m   1263\u001b[0m     \u001b[38;5;28mstr\u001b[39m(prompt),\n\u001b[1;32m   1264\u001b[0m     \u001b[38;5;28mself\u001b[39m\u001b[38;5;241m.\u001b[39m_parent_ident[\u001b[38;5;124m\"\u001b[39m\u001b[38;5;124mshell\u001b[39m\u001b[38;5;124m\"\u001b[39m],\n\u001b[1;32m   1265\u001b[0m     \u001b[38;5;28mself\u001b[39m\u001b[38;5;241m.\u001b[39mget_parent(\u001b[38;5;124m\"\u001b[39m\u001b[38;5;124mshell\u001b[39m\u001b[38;5;124m\"\u001b[39m),\n\u001b[1;32m   1266\u001b[0m     password\u001b[38;5;241m=\u001b[39m\u001b[38;5;28;01mFalse\u001b[39;00m,\n\u001b[1;32m   1267\u001b[0m )\n",
      "File \u001b[0;32m/opt/anaconda3/lib/python3.12/site-packages/ipykernel/kernelbase.py:1305\u001b[0m, in \u001b[0;36mKernel._input_request\u001b[0;34m(self, prompt, ident, parent, password)\u001b[0m\n\u001b[1;32m   1302\u001b[0m \u001b[38;5;28;01mexcept\u001b[39;00m \u001b[38;5;167;01mKeyboardInterrupt\u001b[39;00m:\n\u001b[1;32m   1303\u001b[0m     \u001b[38;5;66;03m# re-raise KeyboardInterrupt, to truncate traceback\u001b[39;00m\n\u001b[1;32m   1304\u001b[0m     msg \u001b[38;5;241m=\u001b[39m \u001b[38;5;124m\"\u001b[39m\u001b[38;5;124mInterrupted by user\u001b[39m\u001b[38;5;124m\"\u001b[39m\n\u001b[0;32m-> 1305\u001b[0m     \u001b[38;5;28;01mraise\u001b[39;00m \u001b[38;5;167;01mKeyboardInterrupt\u001b[39;00m(msg) \u001b[38;5;28;01mfrom\u001b[39;00m \u001b[38;5;28;01mNone\u001b[39;00m\n\u001b[1;32m   1306\u001b[0m \u001b[38;5;28;01mexcept\u001b[39;00m \u001b[38;5;167;01mException\u001b[39;00m:\n\u001b[1;32m   1307\u001b[0m     \u001b[38;5;28mself\u001b[39m\u001b[38;5;241m.\u001b[39mlog\u001b[38;5;241m.\u001b[39mwarning(\u001b[38;5;124m\"\u001b[39m\u001b[38;5;124mInvalid Message:\u001b[39m\u001b[38;5;124m\"\u001b[39m, exc_info\u001b[38;5;241m=\u001b[39m\u001b[38;5;28;01mTrue\u001b[39;00m)\n",
      "\u001b[0;31mKeyboardInterrupt\u001b[0m: Interrupted by user"
     ]
    }
   ],
   "source": [
    "'''\n",
    "Not completely finished. Tried my best but running into trouble with some functions and accessing/modifying items.\n",
    "Appreciate all feedback.\n",
    "'''\n",
    "\n",
    "#Part 1\n",
    "\n",
    "#Days of week list\n",
    "\n",
    "list_day_week = [\"Monday\",\"Tuesday\",\"Wednesday\",\"Thursday\",\"Friday\",\"Saturday\",\"Sunday\"]\n",
    "\n",
    "#Dictionary to track tasks for the week.\n",
    "\n",
    "store_tasks_dict = {\n",
    "    \"Monday\":{},\n",
    "    \"Tuesday\":{},\n",
    "    \"Wednesday\":{},\n",
    "    \"Thursday\":{},\n",
    "    \"Friday\":{},\n",
    "    \"Saturday\":{},\n",
    "    \"Sunday\":{}\n",
    "}\n",
    "#PART 2\n",
    "#Defining a function for user to add tasks\n",
    "#task parameter is for tasks. dayW parameter for day of week\n",
    "\n",
    "def add_tasks(task_add):\n",
    "   \n",
    "#Main user input starts here. While loop checks for a valid day.\n",
    "#If true asks for task then breaks out to call add_tasks function.\n",
    "    \n",
    "    print('Welcome to the add task manager. Please provide the information below. Type DONE when finished')\n",
    "    while True:\n",
    "        day = input('Which day of the week do you want to add a task to?')\n",
    "        day = day.strip().title()\n",
    "        if day == \"Done\":\n",
    "            print(\"Finished adding tasks.\") # Cancel the operation if done is entered\n",
    "            break # Exit the while loop\n",
    "        if day in list_day_week: #check that day is valid\n",
    "            print('Thank-You! Day is valid')\n",
    "            new_task = input('What is the task?')\n",
    "            new_task = new_task.title()\n",
    "\n",
    "            #Adding task to the dictionary\n",
    "            if \"tasks\" not in task_add[day]:\n",
    "                task_add[day][\"tasks\"] = []\n",
    "                task_add[day][\"tasks\"].append({\"description\": new_task, \"completed\": False})\n",
    "                print(f'Alright! {new_task} has been added to {day}')\n",
    "            else:\n",
    "                print(\"Task already exists!\")#If task exists print message\n",
    "        else:\n",
    "            print('Invalid day! Must be any day of the week') #if day is incorrect display message\n",
    "    return task_add\n",
    "\n",
    "#add_tasks(store_tasks_dict)\n",
    "store_tasks_dict = add_tasks(store_tasks_dict)\n",
    "#print(store_tasks_dict) #Can uncomment to see tasks\n",
    "\n",
    "#Part 2b Function for adding habits to track habits dictionary\n",
    "#Setting habits completeness value to false for each day\n",
    "\n",
    "#Empty Dictionary to store habits.\n",
    "track_habit_dict = {}\n",
    "\n",
    "def add_habits(habit_pass):\n",
    "    print(\"Welcome to the add habits manager. Let's add some habits. Type DONE when finished\")          \n",
    "    \n",
    "    while True: \n",
    "        new_habit = input('What habit do you want to add?')\n",
    "        new_habit = new_habit.strip().title()\n",
    "        if new_habit == \"Done\": #If user types done the operation is cancelled\n",
    "            print(\"Finished adding habits.\")\n",
    "            break # Exit the while loop\n",
    "        if new_habit not in habit_pass:\n",
    "            habit_pass[new_habit] = {day: False for day in list_day_week} #adding habit to the dictionary\n",
    "            \n",
    "            print(new_habit + ' habit has been added!') #message saying it's added\n",
    "        \n",
    "        else:\n",
    "            print('This habit has already been added. Try another habit please.') #if habit exists display message \n",
    "    return habit_pass\n",
    "track_habit_dict = add_habits(track_habit_dict)\n",
    "\n",
    "#print(track_habit_dict) #Can uncomment to see list of habits\n",
    "\n",
    "#Part 3\n",
    "#Function to show uncompleted tasks.\n",
    "#Ask for name of task completed and update dict. to reflect.(set completed value to true)\n",
    "# If all completed display message saying so.\n",
    "#Display message if task does not exist. Validate day input\n",
    "# If task completed day before current day, display a nice encouraging message\n",
    "list_false_tasks = input('Do you want to see a list of uncompleted tasks? YES or NO')\n",
    "list_false_tasks = list_false_tasks.upper()\n",
    "if list_false_tasks == \"YES\": \n",
    "    \n",
    "    false_tasks = tasks_incompleted(store_tasks_dict) #If user wants to see list of incompleted tasks\n",
    "        \n",
    "else:\n",
    "    print(\"No incomplete tasks found! Great job!\")\n",
    "\n",
    "def tasks_incompleted(tasks_dict):\n",
    "    \n",
    "    if any(false_tasks.values()): # Check if there's any task in any day's list\n",
    "        print('Here is a list of all uncompleted tasks\\n')\n",
    "        if false_tasks:\n",
    "            for day, tasks_list in false_tasks.items():\n",
    "                print(f\"{day}: \") # Print the day\n",
    "                for task_dict in tasks_list:\n",
    "                    print(f\"  - Task: {task_dict['description']}, Completed: {task_dict['completed']}\")\n",
    "    incomplete_tasks = {day: [] for day in list_day_week} # Initialize with empty lists for each day\n",
    "    \n",
    "    for day, day_info in tasks_dict.items():\n",
    "        if \"tasks\" in day_info:\n",
    "            for task in day_info[\"tasks\"]:\n",
    "                if task[\"completed\"] == False:\n",
    "                    incomplete_tasks[day].append(task)\n",
    "    \n",
    "    \n",
    "    return incomplete_tasks\n",
    "\n",
    "def mark_tasks_true(tasks_dict):\n",
    "     while True:\n",
    "        day_true = input('Which day is the task on? (Type \"done\" to return): ')\n",
    "        day_true = day_true.strip().title()\n",
    "\n",
    "        if day_true == \"Done\": #User can cancel operation\n",
    "            print(\"Cancelled.\")\n",
    "            break\n",
    "\n",
    "        if day_true not in list_day_week:\n",
    "            print('Invalid day. Please enter a valid day of the week.') #Checkimg for valid day. Ig not try again.\n",
    "            continue # Ask for day again\n",
    "\n",
    "        if \"tasks\" not in tasks_dict[day_true] or not tasks_dict[day_true][\"tasks\"]:\n",
    "            print(f\"No tasks found for {day_to_mark}.\")\n",
    "            \n",
    "            retry = input(\"Try another day or (c)ancel? \").strip().lower() # Option to ask for another day or cancel\n",
    "            if retry == 'c':                                               # Giving it a shot\n",
    "                break\n",
    "            continue # Ask for day again\n",
    "\n",
    "\n",
    "        task_description_true = input(f'What is the description of the task on {day_true}? ')\n",
    "        task_description_true = task_description_true.strip().title()\n",
    "\n",
    "        task_found = False\n",
    "        for task in tasks_dict[day_true][\"tasks\"]:\n",
    "            if task[\"description\"].strip().title() == task_description_true:\n",
    "                if task[\"completed\"] == True:\n",
    "                    print(f\"Task {task_description_true} on {day_true} is already completed.\")\n",
    "                else:\n",
    "                    task[\"completed\"] = True\n",
    "                    print(f'Success! Task \"{task_description_true}\" on {day_true} has been marked as completed.')\n",
    "                task_found = True\n",
    "                break # Task found and marked true, exit loop for this day\n",
    "\n",
    "        if not task_found:\n",
    "            #If task not found display message\n",
    "            print(f'Task \"{task_description_true}\" not found for {day_true}. Please check the spelling.')\n",
    "        \n",
    "        # After attempting to mark a task, ask to mark another. CANNOT GET THIS WORKING\n",
    "        #another = input(\"Mark another task as complete? (yes/no): \").strip().lower()\n",
    "        #if another != 'yes':\n",
    "         #   break # Exit the loop if they don't want to mark more\n",
    "\n",
    "        return tasks_dict\n",
    "\n",
    "store_tasks_dict = mark_tasks_true(store_tasks_dict)\n",
    "\n",
    "\n",
    "#Having trouble with this one and running out of time. Appreciate feedback to help me get it working.\n",
    "\n",
    "\n",
    "'''def mark_habits_true(habit_pass):\n",
    "    mark_hab_yn = print('Would you like to mark a habit as completed? Yes or No\")\n",
    "    mark_hab_yn = mark_hab_yn.strip().title()\n",
    "    if mark_hab_yn == \"Yes\":\n",
    "        day_hab_comp = input('What day is the habit on?')\n",
    "        hab_comp = input('Which habit is completed?')\n",
    "        hab_comp_list = {day: [] for day in list_day_week}\n",
    "        for hab in habit_pass[hab_comp]:\n",
    "            if hab == hab_comp:\n",
    "                if day == day_hab_comp:\n",
    "                    habit_pass[hab]\n",
    "        \n",
    "        \n",
    "\n",
    "\n",
    "track_habit_dict = mark_habits_true(track_habits_true)'''\n",
    "        \n",
    "    \n",
    "\n",
    "\n",
    "    \n",
    "                    \n",
    "\n",
    "\n",
    "\n",
    "\n",
    "\n",
    "            \n",
    "\n",
    "            \n",
    "       \n",
    "\n",
    "\n",
    "\n",
    "\n",
    "\n",
    "\n",
    "   \n",
    "    \n"
   ]
  },
  {
   "cell_type": "markdown",
   "id": "9638fbde-9b43-4c68-ae54-77f251099b8e",
   "metadata": {
    "id": "9638fbde-9b43-4c68-ae54-77f251099b8e"
   },
   "source": [
    "## Part 2: Add Tasks and Habits\n",
    "Build functions that let users add tasks to specific days and habits for the entire week.\n",
    "### Instructions\n",
    "1. **Create a function to add tasks:**\n",
    "- Ask the user which day they want to add the task to.\n",
    "- Make sure to validate the day. Display a message if the day was invalid.\n",
    "- Ask for the task name.\n",
    "- Store it in the dictionary you created to store tasks under the correct day.\n",
    "- Set the task’s value to *False* to show it hasn’t been completed yet.\n",
    "\n",
    "\n",
    "2. **Create a function to add habits:**\n",
    "- Ask the user for the name of the habit (e.g., “Drink Water”).\n",
    "- Make sure to check if the habit already exists. Display a message if it does.\n",
    "- If it’s new, add it to the dictionary you created to store habits.\n",
    "- For that habit, create a nested dictionary with all 7 days set to *False*.\n",
    "\n",
    "\n",
    "**Tip:** Use ***.strip()*** and ***.title()*** to clean up user input.\n",
    "- **.strip()** = Removes any extra spaces at the beginning or end of the text. People often hit the spacebar by accident and add leading or trailing unwanted spaces. Example: \"  Monday  \" can be fixed by using .strip(): \"Monday\"\"\n",
    "- **.title()** = Capitalizes the first letter of each word and makes the rest lowercase. It helps match formatting exactly (especially for days of the week). Example: \"monday\" or \"MONDAY\"\" will be changed to \"Monday\".\n",
    "- **If the day does not exist, show a helpful error message.**"
   ]
  },
  {
   "cell_type": "code",
   "execution_count": 2,
   "id": "8e5a08ca-bd93-486c-9dbd-621e16e3064c",
   "metadata": {
    "id": "8e5a08ca-bd93-486c-9dbd-621e16e3064c"
   },
   "outputs": [],
   "source": [
    "#your code goes here"
   ]
  },
  {
   "cell_type": "code",
   "execution_count": 3,
   "id": "4ce280fe-fea3-43e4-be24-022607ffa934",
   "metadata": {
    "id": "4ce280fe-fea3-43e4-be24-022607ffa934",
    "scrolled": true
   },
   "outputs": [],
   "source": [
    "#your code goes here"
   ]
  },
  {
   "cell_type": "markdown",
   "id": "2b4d9b4d-c7cb-4e18-a989-6bf66ce0488d",
   "metadata": {
    "id": "2b4d9b4d-c7cb-4e18-a989-6bf66ce0488d"
   },
   "source": [
    "## Part 3: Marking Tasks and Habits as Complete\n",
    "In this part, you'll implement two functions to allow users to mark their progress: one for tasks and one for habits.\n",
    "### Instructions:\n",
    "1. Create a function to mark tasks as complete:\n",
    "- Display all uncompleted tasks along with the day they belong to.\n",
    "- Ask the user to enter the name of the task they completed.\n",
    "- Find and update the task in your data structure by setting its value to *True*.\n",
    "- If all tasks are completed, display a message saying so.\n",
    "- Make sure to validate the day and check if the task exists. Display a message if the task does not exist or if the day was invalid.\n",
    "- **BONUS:** If the task is from a day before today, print a encouraging or funny message like: \"Task marked as complete. Better late than never!\" **Tip:** You can use the *datetime* library.\n",
    "\n",
    "2. Create a function to mark habits as complete:\n",
    "- Ask the user to enter the day and the name of the habit.\n",
    "- Make sure to validate the day and check if the habit exists. Display a message if the habit does not exist or if the day was invalid.\n",
    "- Update the habit’s status for that day by setting its value to *True*.\n",
    "\n",
    "#### Tips:\n",
    "- Use **.strip()** and **.title()** to clean up user input.\n",
    "- Always check if the dictionary contains data before trying to access something.\n",
    "- **If the day, habit or task doesn't exist, show a helpful error message.**\n",
    "  \n",
    "**Helpful note:** You can access a dictionary’s information using loops like this:"
   ]
  },
  {
   "cell_type": "code",
   "execution_count": null,
   "id": "30bb895d-dd03-402a-ac23-98b07fae6602",
   "metadata": {
    "id": "30bb895d-dd03-402a-ac23-98b07fae6602",
    "outputId": "eb3b27e8-aa92-433b-e363-8b7ca0fbe209"
   },
   "outputs": [
    {
     "name": "stdout",
     "output_type": "stream",
     "text": [
      "a = 1\n",
      "b = 2\n",
      "c = 3\n"
     ]
    }
   ],
   "source": [
    "my_dict = {\n",
    "    \"a\": 1,\n",
    "    \"b\": 2,\n",
    "    \"c\": 3\n",
    "}\n",
    "\n",
    "# Loop through keys and values\n",
    "for key, value in my_dict.items():\n",
    "    print(f\"{key} = {value}\")\n"
   ]
  },
  {
   "cell_type": "markdown",
   "id": "3232b6a3-02ef-448e-9d92-4579cf3dc54a",
   "metadata": {
    "id": "3232b6a3-02ef-448e-9d92-4579cf3dc54a"
   },
   "source": [
    "This will print each key and its value.\n",
    "\n",
    "You can also loop just through keys with ***for key in my_dict:*** or just values with for value in ***my_dict.values():***"
   ]
  },
  {
   "cell_type": "code",
   "execution_count": 4,
   "id": "ac83b67f-6984-4325-b9e0-1dbc2a0f58b8",
   "metadata": {
    "id": "ac83b67f-6984-4325-b9e0-1dbc2a0f58b8"
   },
   "outputs": [],
   "source": [
    "#your code goes here"
   ]
  },
  {
   "cell_type": "code",
   "execution_count": 5,
   "id": "57e7ed4d-c30d-46ae-a714-da282a196796",
   "metadata": {
    "id": "57e7ed4d-c30d-46ae-a714-da282a196796",
    "scrolled": true
   },
   "outputs": [],
   "source": [
    "#your code goes here"
   ]
  },
  {
   "cell_type": "markdown",
   "id": "9d889f9f-d755-4609-a045-d39dcd8353c6",
   "metadata": {
    "id": "9d889f9f-d755-4609-a045-d39dcd8353c6"
   },
   "source": [
    "## Part 4: Removing Tasks and Habits\n",
    "\n",
    "For this and all subsequent submissions, track your project progress with version control in a local repository connected to GitHub. Create a directory with your first initial and last name (ex. project-sclarke for Sarah Clarke) to keep track of the files relating to the project.\n",
    "\n",
    "Next, connect the local Git repository to GitHub. Ensure the GitHub repository is set to public, and include the link here:\n",
    "\n",
    "**GitHub Link:** `insert link here`\n",
    "\n",
    "For tracking progress, there should be a *minimum* of 3 commits in the version history by the end of the project, one for each submission (version with parts 1-3 completed, version with parts 1-5, final submission version).\n",
    "\n",
    "\n",
    "### Instructions:\n",
    "1. Create a function to remove a task:\n",
    "- Ask the user which day the task is on.\n",
    "- Show the list of tasks for that day, if there are none, display a message saying so.\n",
    "- Ask the user which task to remove.\n",
    "- If the task exists, delete it from the dictionary using del and display a message saying which task was deleted.\n",
    "- Make sure to validate the day and check if the task exists. Display a message if the task does not exist or if the day was invalid.\n",
    "\n",
    "2. Create a function to remove a habit:\n",
    "- Display all habits that are currently being tracked.\n",
    "- Ask the user which habit to remove. Display a message if the habit does not exist.\n",
    "- If it exists in the dictionary, delete it using del and display a message saying which habit was deleted.\n",
    "- Make sure to validate the day and check if the habit exists. Display a message if the habit does not exist or if the day was invalid.\n",
    "\n",
    "#### Tips:\n",
    "- Use **.strip()** and **.title()** to clean up user input.\n",
    "- Always check if the dictionary contains data before trying to access or delete something.\n",
    "- **If the day, habit or task doesn't exist, show a helpful error message.**"
   ]
  },
  {
   "cell_type": "code",
   "execution_count": 6,
   "id": "49bc0d69-db7d-4d06-b024-5ba01de17709",
   "metadata": {
    "id": "49bc0d69-db7d-4d06-b024-5ba01de17709"
   },
   "outputs": [],
   "source": [
    "#your code goes here"
   ]
  },
  {
   "cell_type": "code",
   "execution_count": 7,
   "id": "02fa45e1-cf69-4601-aded-b6c3cfde2070",
   "metadata": {
    "id": "02fa45e1-cf69-4601-aded-b6c3cfde2070"
   },
   "outputs": [],
   "source": [
    "#your code goes here"
   ]
  },
  {
   "cell_type": "markdown",
   "id": "e7f5f645-b3f5-4425-b339-2df5941fefd2",
   "metadata": {
    "id": "e7f5f645-b3f5-4425-b339-2df5941fefd2"
   },
   "source": [
    "## Part 5: Generating Weekly and Daily Reports\n",
    "\n",
    "### Instructions:\n",
    "1. Create a Weekly Report Function\n",
    "\n",
    "This function should summarize the user's progress over the entire week.\n",
    "- For Habits:\n",
    "    - Loop through each habit in your habit tracker.\n",
    "    - Count how many days the habit was marked as complete using a loop or a list comprehension.\n",
    "    - Display the habit name and the number of days it was completed out of 7.\n",
    "    - Display a message if there are no habits found.\n",
    "- For Tasks:\n",
    "    - Loop through all days and collect tasks into two separate lists:\n",
    "        - One for completed tasks\n",
    "        - One for not completed tasks\n",
    "    - Include the task name and the day in parentheses.\n",
    "    - Display both lists clearly.\n",
    "    - Display a message if there are no tasks found.\n",
    "\n",
    "2. Create a Daily Report Function\n",
    "\n",
    "This function allows the user to view all their activity for a specific day.\n",
    "\n",
    "- Ask the user to enter a day (e.g., \"Monday\").\n",
    "- If the day is valid:\n",
    "    - Display all tasks for that day, showing whether each one is complete or not.\n",
    "    - Display all habits, showing whether they were completed on that day.\n",
    "- Use ✅ for completed and ❌ for not completed.\n",
    "\n",
    "#### Tips:\n",
    "- Use **.title()** to make sure the input day matches the format in your list.\n",
    "- Use clear formatting in your print statements to separate sections.\n",
    "- Always check if the dictionary contains data before trying to access something.\n",
    "- **If the day doesn't exist, show a helpful error message.**"
   ]
  },
  {
   "cell_type": "code",
   "execution_count": 8,
   "id": "b4b1d7d1-b604-435c-887e-c83ba04f6cca",
   "metadata": {
    "id": "b4b1d7d1-b604-435c-887e-c83ba04f6cca"
   },
   "outputs": [],
   "source": [
    "#your code goes here"
   ]
  },
  {
   "cell_type": "code",
   "execution_count": 9,
   "id": "5b16088c-530a-492a-b507-58b73d6c73ad",
   "metadata": {
    "id": "5b16088c-530a-492a-b507-58b73d6c73ad"
   },
   "outputs": [],
   "source": [
    "#your code goes here"
   ]
  },
  {
   "cell_type": "markdown",
   "id": "6fa4385e-f80a-4465-abf2-5593d6afb88e",
   "metadata": {
    "id": "6fa4385e-f80a-4465-abf2-5593d6afb88e"
   },
   "source": [
    "## Part 6: Instructions – Building the Main Menu System\n",
    "In this final part, you'll create a main control loop that acts as the user interface for your program. This allows users to interact with your habit and task tracker through a series of text-based menu options.\n",
    "\n",
    "### Instructions:\n",
    "1. Set Up a Loop: Use a loop to keep showing the menu until the user chooses to exit.\n",
    "\n",
    "2. Display the Main Menu\n",
    "- Show numbered options for:\n",
    "    - 1. Adding a Task or Habit\n",
    "    - 2. Marking a Task or Habit as complete\n",
    "    - 3. Removing a Task or Habit\n",
    "    - 4. Viewing reports\n",
    "    - 5. Exiting the program\n",
    "\n",
    "3. Handle User Input\n",
    "   \n",
    "Ask the user to choose an option using input(). Based on the number they enter:\n",
    "\n",
    "- Option 1: Ask whether they want to add a Task or a Habit. Call the correct function.\n",
    "- Option 2: Ask whether they want to mark a Task or Habit as complete. Call the right function.\n",
    "- Option 3: Ask whether they want to remove a Task or a Habit. Call the appropriate function.\n",
    "- Option 4: Ask whether they want a Weekly or Daily report. Call the corresponding function.\n",
    "- Option 5: Exit the loop using break.\n",
    "\n",
    "4. Validate Input: Check for valid input at each step. If the user enters an invalid choice, show an error message and return to the menu."
   ]
  },
  {
   "cell_type": "code",
   "execution_count": 10,
   "id": "e7c12d32-31d4-4c02-8e19-3304dfea818b",
   "metadata": {
    "id": "e7c12d32-31d4-4c02-8e19-3304dfea818b",
    "outputId": "f9bc33c1-9598-4b6f-e95d-4af49c39bf57"
   },
   "outputs": [],
   "source": [
    "#your code goes here"
   ]
  }
 ],
 "metadata": {
  "colab": {
   "provenance": []
  },
  "kernelspec": {
   "display_name": "Python 3 (ipykernel)",
   "language": "python",
   "name": "python3"
  },
  "language_info": {
   "codemirror_mode": {
    "name": "ipython",
    "version": 3
   },
   "file_extension": ".py",
   "mimetype": "text/x-python",
   "name": "python",
   "nbconvert_exporter": "python",
   "pygments_lexer": "ipython3",
   "version": "3.12.7"
  }
 },
 "nbformat": 4,
 "nbformat_minor": 5
}
